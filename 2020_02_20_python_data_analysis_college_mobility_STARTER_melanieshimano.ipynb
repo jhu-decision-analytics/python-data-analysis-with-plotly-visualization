{
  "nbformat": 4,
  "nbformat_minor": 0,
  "metadata": {
    "colab": {
      "name": "2020-02-20-python-data-analysis-college-mobility-STARTER-melanieshimano.ipynb",
      "provenance": []
    },
    "kernelspec": {
      "name": "python3",
      "display_name": "Python 3"
    }
  },
  "cells": [
    {
      "cell_type": "markdown",
      "metadata": {
        "id": "y4wxyEvUFVQF",
        "colab_type": "text"
      },
      "source": [
        "# US College Characterisitcs and Data"
      ]
    },
    {
      "cell_type": "markdown",
      "metadata": {
        "id": "foHUZz9fFjUZ",
        "colab_type": "text"
      },
      "source": [
        "We'll use data that we've previously used from [Opportunity Insights](https://opportunityinsights.org/data/?geographic_level=100&topic=0&paper_id=0#resource-listing) to look at general US college characteristics through data analysis and data visualizations with [Plotly](https://plot.ly/python/)."
      ]
    },
    {
      "cell_type": "markdown",
      "metadata": {
        "id": "uNtznhhkGT4y",
        "colab_type": "text"
      },
      "source": [
        "## Import Packages"
      ]
    },
    {
      "cell_type": "markdown",
      "metadata": {
        "id": "OALs4o1QGYSP",
        "colab_type": "text"
      },
      "source": [
        "Think of our Python packages as the \"ingredients\" of our Python code. Without these imported, we won't be able to carry out any of our Python code instructions. We'll use a couple of packages to help with manipulating our data (pandas and numpy) and a package to help with making data visualizations (plotly express)"
      ]
    },
    {
      "cell_type": "code",
      "metadata": {
        "id": "kLvcDHogBj2v",
        "colab_type": "code",
        "colab": {}
      },
      "source": [
        "# import libraries that we'll use to re-do our data analysis with Excel\n",
        "# for data analysis\n",
        "# for data analysis\n",
        "# for initial graphs\n",
        "# for interactive graphs"
      ],
      "execution_count": 0,
      "outputs": []
    },
    {
      "cell_type": "markdown",
      "metadata": {
        "id": "PlKbxw3nK-UR",
        "colab_type": "text"
      },
      "source": [
        "## Import Data"
      ]
    },
    {
      "cell_type": "markdown",
      "metadata": {
        "id": "Ww_t6hlrLDgH",
        "colab_type": "text"
      },
      "source": [
        "We'll use the same data that we used in our first few classes that gives us information about US Colleges and their social mobility impact. \n",
        "\n",
        "We can import data from a website link that houses the data (in github or a Google Sheet) or directly from a file in our machine. Here, we'll import information directly from a file link on [github](https://github.com/jhu-decision-analytics/college-social-mobility-trends)"
      ]
    },
    {
      "cell_type": "code",
      "metadata": {
        "id": "D37ROIWuLwce",
        "colab_type": "code",
        "colab": {}
      },
      "source": [
        "# import data from github\n",
        "\n",
        "# redefine the link to our uploaded csv file as something that's shorter and more descriptive\n",
        "\n",
        "# import this csv into our python notebook and define as a new dataframe"
      ],
      "execution_count": 0,
      "outputs": []
    },
    {
      "cell_type": "code",
      "metadata": {
        "id": "nKLidDh6Mobo",
        "colab_type": "code",
        "colab": {}
      },
      "source": [
        "# preview the dataframe"
      ],
      "execution_count": 0,
      "outputs": []
    },
    {
      "cell_type": "code",
      "metadata": {
        "id": "l1kGNQ5pVXBX",
        "colab_type": "code",
        "colab": {}
      },
      "source": [
        "# what are the unique items in a column?"
      ],
      "execution_count": 0,
      "outputs": []
    },
    {
      "cell_type": "markdown",
      "metadata": {
        "id": "9_UnAwq9PTY4",
        "colab_type": "text"
      },
      "source": [
        "## Aggregate Data"
      ]
    },
    {
      "cell_type": "markdown",
      "metadata": {
        "id": "R3Pq3zgQPdTV",
        "colab_type": "text"
      },
      "source": [
        "In Excel, we use the Pivot Table button to create aggregated views and charts with larger datasets. This allowed us to gain some high-level understanding of our data without needing to do much. \n",
        "\n",
        "We can create similar types of aggregated tables in two main ways with Python: "
      ]
    },
    {
      "cell_type": "markdown",
      "metadata": {
        "id": "kE_xzkNRQVYD",
        "colab_type": "text"
      },
      "source": [
        "### Pivot Tables in Python"
      ]
    },
    {
      "cell_type": "markdown",
      "metadata": {
        "id": "BOLBbb42QYVz",
        "colab_type": "text"
      },
      "source": [
        "We can use the pandas **pivot_table** function to essentially create a pivot table in our python notebook.\n",
        "\n",
        "This function is set up nicely to mimic exactly what we've done with pivot tables in Excel, which can be useful if we want to keep a legacy of our work and manipulations or if we want to work with larger datasets that might make Excel crash. The general formula to create a pivot table with Python is: \n",
        "\n",
        "```\n",
        "new_dataframe_name = pd.pivot_table(old_dataframe, values = columns_we_want_in_values_fields_of_pivot_table, \n",
        "                                       index = columns_we_want_as_row_fields, \n",
        "                                       columns = columns_we_want_as_column_fields, \n",
        "                                       aggfunc = np.function_we_want_to_perform_on_values).reset_index()\n",
        "\n",
        "```\n",
        "\n",
        "If we want to use more than one column in the values, index, or column fields, then we need to make them into a list. For example, if we wanted to use Day Name and Date Range as our row fields, we would write index = [\"tier\", \"tier_name\"]\n",
        "\n",
        "\n"
      ]
    },
    {
      "cell_type": "markdown",
      "metadata": {
        "id": "vTzb0SIqRmqs",
        "colab_type": "text"
      },
      "source": [
        "#### pivot table with college characteristic data"
      ]
    },
    {
      "cell_type": "code",
      "metadata": {
        "id": "VGPhG00jSBQF",
        "colab_type": "code",
        "colab": {}
      },
      "source": [
        "# get a list of all of the dataframe column names"
      ],
      "execution_count": 0,
      "outputs": []
    },
    {
      "cell_type": "code",
      "metadata": {
        "id": "eT-ZG4WbRsxN",
        "colab_type": "code",
        "colab": {}
      },
      "source": [
        "# create a  pivot table of average graduation rate in 2013 per college tier"
      ],
      "execution_count": 0,
      "outputs": []
    },
    {
      "cell_type": "code",
      "metadata": {
        "id": "7TAwn4FwSnyq",
        "colab_type": "code",
        "colab": {}
      },
      "source": [
        "# view pivot table"
      ],
      "execution_count": 0,
      "outputs": []
    },
    {
      "cell_type": "code",
      "metadata": {
        "id": "pmsheEzgU57q",
        "colab_type": "code",
        "colab": {}
      },
      "source": [
        "# sort the values by the tier number"
      ],
      "execution_count": 0,
      "outputs": []
    },
    {
      "cell_type": "markdown",
      "metadata": {
        "id": "xNDQWkToT2f5",
        "colab_type": "text"
      },
      "source": [
        "# Data Visualizations with Plotly"
      ]
    },
    {
      "cell_type": "markdown",
      "metadata": {
        "id": "nGnoWK8fT6Pq",
        "colab_type": "text"
      },
      "source": [
        "## Bar Graph of Average Graduation Rate per College Tier"
      ]
    },
    {
      "cell_type": "code",
      "metadata": {
        "id": "pebOj4bHT5K5",
        "colab_type": "code",
        "colab": {}
      },
      "source": [
        "# bring up dataframe pivot table made previously"
      ],
      "execution_count": 0,
      "outputs": []
    },
    {
      "cell_type": "markdown",
      "metadata": {
        "id": "3igz04UNWX86",
        "colab_type": "text"
      },
      "source": [
        "We'll use plotly express to create an interactive data visualization (bar chart) with the data in our pivot table. \n",
        "\n",
        "The general formula for a bar chart with plotly express is: \n",
        "```\n",
        "chart_name = px.bar(df, # dataframe of the data we want to plot\n",
        "                     x = \"column on the x axis\", \n",
        "                     y = \"column on the y axis\", \n",
        "                     color = \"how to categorize data with different colors\", \n",
        "                     hover_name = \"values we want to show up when we hover over the chart\", \n",
        "                    title = \"chart title\", \n",
        "                    labels = {\"column_name\": \"new label\", \"column_name\": \"new label\"}, # renaming labels\n",
        "                    orientation = \"h\" # change the x, y values to make a horizontal bar chart\n",
        "                    )\n",
        "```\n",
        "\n",
        "You can also use this formula with data visualizations other than bar charts. For a full library of data visualizations with plotly express look [here](https://plot.ly/python/plotly-express/)."
      ]
    },
    {
      "cell_type": "code",
      "metadata": {
        "id": "byyRyo-aUnhV",
        "colab_type": "code",
        "colab": {}
      },
      "source": [
        "# make our pivot table into an interactive bar chart"
      ],
      "execution_count": 0,
      "outputs": []
    },
    {
      "cell_type": "code",
      "metadata": {
        "id": "aOblg-3VX34d",
        "colab_type": "code",
        "colab": {}
      },
      "source": [
        ""
      ],
      "execution_count": 0,
      "outputs": []
    }
  ]
}