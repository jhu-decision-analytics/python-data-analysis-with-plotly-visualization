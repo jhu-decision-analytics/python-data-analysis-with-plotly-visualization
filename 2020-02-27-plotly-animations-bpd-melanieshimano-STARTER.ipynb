{
 "cells": [
  {
   "cell_type": "markdown",
   "metadata": {},
   "source": [
    "We'll expand on our python data cleaning, analysis, and visualization skills by working with [Baltimore City Police Department data]() from the Baltimore City Open Data portal."
   ]
  },
  {
   "cell_type": "markdown",
   "metadata": {},
   "source": [
    "## import packages "
   ]
  },
  {
   "cell_type": "code",
   "execution_count": 182,
   "metadata": {},
   "outputs": [],
   "source": [
    "# import packages to conduct data analysis and to make interactive charts and maps\n"
   ]
  },
  {
   "cell_type": "markdown",
   "metadata": {},
   "source": [
    "## import data"
   ]
  },
  {
   "cell_type": "markdown",
   "metadata": {},
   "source": [
    "[Previously](https://colab.research.google.com/drive/14PJV4aPg01xX7-XnIUtrC6_GqgeriZj1) we imported data from a link to a csv uploaded to GitHub. Here, we'll upload data from a file on our computer. This might be useful if we don't have a GitHub profile or if we have a file that:\n",
    " - Is larger than 25 MB, which won't upload to GitHub\n",
    " - We don't want to convert to a CSV (e.g. part of already performed Excel analysis, etc.)\n",
    " - Is proprietary data/not our own data that we don't want to upload even to a private GitHub repository\n",
    " \n",
    "\n"
   ]
  },
  {
   "cell_type": "markdown",
   "metadata": {},
   "source": [
    "### Importing a Data File from Your Local Machine "
   ]
  },
  {
   "cell_type": "markdown",
   "metadata": {},
   "source": [
    "Similar to saving the website link as a __variable__, here we'll save the file path name to our file as a variable. If we drag the data file into the same file as our jupyter lab notebook, we don't need to list the path file names outside of the folder we're working in, however, if our data file is in a different location on our machine--and if we don't want to move it--then we'll need to list the entire path name. \n",
    "\n",
    "We can get the path name for our file by: \n",
    " - __MacOS:__ CONTROL + click and while menu is up, press the OPTION key. The menu options should change, and you should see a menu option that says \"Copy \"filename.csv\" as Pathname.\" Click this to copy the file pathname. \n",
    " - __Windows:__ SHIFT + right click, choose \"Copy as Path\""
   ]
  },
  {
   "cell_type": "code",
   "execution_count": 183,
   "metadata": {},
   "outputs": [],
   "source": [
    "# save file name as a variable with the file name in \"\"\n"
   ]
  },
  {
   "cell_type": "code",
   "execution_count": 184,
   "metadata": {},
   "outputs": [],
   "source": [
    "# import data as a dataframe to manipulate\n"
   ]
  },
  {
   "cell_type": "code",
   "execution_count": 222,
   "metadata": {},
   "outputs": [],
   "source": [
    "# preview the data\n"
   ]
  },
  {
   "cell_type": "markdown",
   "metadata": {},
   "source": [
    "## Inspecting Data"
   ]
  },
  {
   "cell_type": "markdown",
   "metadata": {},
   "source": [
    "Now we can see what our data looks like, but we don't know much about what's happening within the dataset and what we can and can't potentially do with this. There are a few functions that we can use to gain some high-level insights into what our data has."
   ]
  },
  {
   "cell_type": "markdown",
   "metadata": {},
   "source": [
    "### General Big-Picture Counts and Stats "
   ]
  },
  {
   "cell_type": "code",
   "execution_count": 223,
   "metadata": {},
   "outputs": [],
   "source": [
    "# to look at the stats on the columns we have numbers in we can use df.describe() to give us \n",
    "#the count, mean, maximum, minimum, standard deviation, and percentiles within those columns\n",
    "\n"
   ]
  },
  {
   "cell_type": "code",
   "execution_count": 224,
   "metadata": {},
   "outputs": [],
   "source": [
    "# we can also use df.info() to see the data types within columns\n",
    "# this will be important if some of our \"number\" columns aren't actually \"numbers\"\n",
    "# or if we need to convert columns to dates or times\n"
   ]
  },
  {
   "cell_type": "markdown",
   "metadata": {},
   "source": [
    "## Data Cleaning "
   ]
  },
  {
   "cell_type": "markdown",
   "metadata": {},
   "source": [
    "There are a few types of __data types__ that we'll need to be concerned with in our analysis for this class: \n",
    "\n",
    " - __object or string (str)__: these are any combination of letters, numbers, and characters that are essentially an entity of data. We can manipulate these objects by splitting on specific characters, adding or subtracting, grouping by similarities, etc.\n",
    " - __integer (int)__: these are integers. We can perform any arithmetic function with these as long as the equation elements are also integers or...\n",
    " - __float (float)__: these are numbers that have a decimal in them. Similar to integers, we can perform any arithmetic functions on these values\n",
    " - __datetime (datetime)__: these are dates, times, or both dates and times. It's advantageous to convert actual date/time data into a datetime format so that we can perform arithmetic on these values (e.g. subtracting dates to get the number of days in between, adding times to get an end time, etc.)\n",
    " - __Boolean (bool)__: these are data types that are either True or False. We use boolean data types a lot in Python logic expressions"
   ]
  },
  {
   "cell_type": "markdown",
   "metadata": {},
   "source": [
    "Most of our numerical data in our BPD dataset is already classified as an int, but our date and time values are classified as \"objects.\" We can convert our date and time columns into date/time values by \"redefining\" them."
   ]
  },
  {
   "cell_type": "code",
   "execution_count": 225,
   "metadata": {},
   "outputs": [],
   "source": [
    "# remove all non numerical values from ArrestDate and ArrestTime\n"
   ]
  },
  {
   "cell_type": "markdown",
   "metadata": {},
   "source": [
    "Next, we'll create a new column that combines the arrest date and time so that we can convert this to a datetime datatype and manipulate the data."
   ]
  },
  {
   "cell_type": "code",
   "execution_count": 189,
   "metadata": {},
   "outputs": [],
   "source": [
    "# combine arrest date and time columns\n"
   ]
  },
  {
   "cell_type": "code",
   "execution_count": 226,
   "metadata": {},
   "outputs": [],
   "source": [
    "# preview the new column\n"
   ]
  },
  {
   "cell_type": "code",
   "execution_count": 227,
   "metadata": {},
   "outputs": [],
   "source": [
    "# convert ArrestDateTime column to datetime\n",
    "\n"
   ]
  },
  {
   "cell_type": "code",
   "execution_count": 228,
   "metadata": {},
   "outputs": [],
   "source": [
    "# now check to see that we converted our column to a datetime format\n"
   ]
  },
  {
   "cell_type": "code",
   "execution_count": 229,
   "metadata": {},
   "outputs": [],
   "source": [
    "# preview data\n"
   ]
  },
  {
   "cell_type": "markdown",
   "metadata": {},
   "source": [
    "## Data Manipulation"
   ]
  },
  {
   "cell_type": "markdown",
   "metadata": {},
   "source": [
    "Now that we have our data set up with the correct data types, we can start to dive deep and aggregate this information to better understand what's happening with the Baltimore City Police Department and the arrests over time. "
   ]
  },
  {
   "cell_type": "markdown",
   "metadata": {},
   "source": [
    "#### Arrest Year Column "
   ]
  },
  {
   "cell_type": "markdown",
   "metadata": {},
   "source": [
    "Let's look at how a few of these column values change each year. To make this easier, we'll create a new column for the _ArrestYear_ from the ArrestDate column, and then aggregate some variables by the year column. "
   ]
  },
  {
   "cell_type": "code",
   "execution_count": 230,
   "metadata": {},
   "outputs": [],
   "source": [
    "# make a new column for the ArrestDate year\n"
   ]
  },
  {
   "cell_type": "markdown",
   "metadata": {},
   "source": [
    "We may also want to look at arrests by month or day of the week, so we'll add these columns as well"
   ]
  },
  {
   "cell_type": "code",
   "execution_count": 231,
   "metadata": {},
   "outputs": [],
   "source": [
    "# make columns to define the month and day of the week\n",
    "\n",
    " #Monday = 0, Sunday = 6"
   ]
  },
  {
   "cell_type": "code",
   "execution_count": 232,
   "metadata": {},
   "outputs": [],
   "source": [
    "# check new columns\n"
   ]
  },
  {
   "cell_type": "markdown",
   "metadata": {},
   "source": [
    "#### How have the number of crimes in the daytime, evening, and night changed over the years?"
   ]
  },
  {
   "cell_type": "markdown",
   "metadata": {},
   "source": [
    "We'll define daytime, evening, and night as: \n",
    " - __morning__: 12 AM-8 AM\n",
    " - __daytime__: 8 AM - 4 PM\n",
    " - __night__: 4 PM-12 AM\n",
    "\n",
    "and categorize each arrest automatically by separating the time of day into equal bins"
   ]
  },
  {
   "cell_type": "code",
   "execution_count": 233,
   "metadata": {},
   "outputs": [],
   "source": [
    "# first, make a new column that extracts the arrest time hour\n"
   ]
  },
  {
   "cell_type": "code",
   "execution_count": 234,
   "metadata": {},
   "outputs": [],
   "source": [
    "# separate our ArrestHour column into bins\n"
   ]
  },
  {
   "cell_type": "code",
   "execution_count": 235,
   "metadata": {},
   "outputs": [],
   "source": [
    "# preview new column"
   ]
  },
  {
   "cell_type": "markdown",
   "metadata": {},
   "source": [
    "Now, we want to create an aggregated table of the number of arrests per day \"segment\" for each year. Previously we did this by using the Python version of a pivot table. Here, we'll use the pandas.groupby function to similarly group our column values. \n",
    "\n",
    "The general formula for a pandas groupby function is: \n",
    "\n",
    "```\n",
    "new_df = df.groupby(\"columns you want to aggregate\")[\"columns you want as the values/what you will perform functions on\"].agg([calculation_you_want_to_perform])\n",
    "```\n",
    "\n",
    "Here, we'll aggregate/group the dataframe by arrest year __and__ day segment and count the number of arrests in each segment by using the arrest ID as the unique identifier to count values."
   ]
  },
  {
   "cell_type": "code",
   "execution_count": 236,
   "metadata": {},
   "outputs": [],
   "source": [
    "# make an aggregated dataframe to look at the number of arrests in each day segment over the years available\n",
    "\n"
   ]
  },
  {
   "cell_type": "code",
   "execution_count": 237,
   "metadata": {},
   "outputs": [],
   "source": [
    "# preview new dataframe\n"
   ]
  },
  {
   "cell_type": "markdown",
   "metadata": {},
   "source": [
    "## Data Visualizations "
   ]
  },
  {
   "cell_type": "markdown",
   "metadata": {},
   "source": [
    "Here, we'll make a few visualizations to look at this distribution in interactive charts with plotly express\n",
    "\n",
    "```\n",
    "line_timeofday_arrests = px.line(df,\n",
    "                                x = \"\",\n",
    "                                y = \"\",\n",
    "                                color = \"\",\n",
    "                                hover_name = \"\",\n",
    "                                title = \"\",\n",
    "                                labels = {\"\": \"\", \"\": \"\"},\n",
    "                                )\n",
    "```"
   ]
  },
  {
   "cell_type": "markdown",
   "metadata": {},
   "source": [
    "#### Line Graph to Compare Number of Arrests per year "
   ]
  },
  {
   "cell_type": "code",
   "execution_count": 238,
   "metadata": {},
   "outputs": [],
   "source": [
    "# line graph of number of arrrests in each time period,\n",
    "\n"
   ]
  },
  {
   "cell_type": "code",
   "execution_count": 239,
   "metadata": {},
   "outputs": [],
   "source": [
    "# view line graph\n"
   ]
  },
  {
   "cell_type": "code",
   "execution_count": 207,
   "metadata": {},
   "outputs": [],
   "source": [
    "# export the visual to an html to share\n",
    "line_timeofday_arrests.write_html(\"line_graph_bpd_arrest_dayperiod.html\")"
   ]
  },
  {
   "cell_type": "markdown",
   "metadata": {},
   "source": [
    "#### Pie Chart to compare the distribution of arrests throughout the week "
   ]
  },
  {
   "cell_type": "code",
   "execution_count": 210,
   "metadata": {},
   "outputs": [],
   "source": [
    "# make a pie chart to show distribution of arrests during the week\n",
    "week_dist_arrests = px.pie(df_bpd, \n",
    "                           values=\"\", \n",
    "                           names=\"\")"
   ]
  },
  {
   "cell_type": "code",
   "execution_count": 240,
   "metadata": {},
   "outputs": [],
   "source": [
    "# show pie chart\n"
   ]
  },
  {
   "cell_type": "markdown",
   "metadata": {},
   "source": [
    "#### Plotly Animation to show changes in number of arrests over years"
   ]
  },
  {
   "cell_type": "code",
   "execution_count": 214,
   "metadata": {},
   "outputs": [],
   "source": [
    "# aggregate data to count the number of arrests per weekday per year\n"
   ]
  },
  {
   "cell_type": "code",
   "execution_count": 241,
   "metadata": {},
   "outputs": [],
   "source": [
    "# preview new df\n"
   ]
  },
  {
   "cell_type": "code",
   "execution_count": 242,
   "metadata": {},
   "outputs": [],
   "source": [
    "# look up the maximum value for number of arrests to add into the animation \n"
   ]
  },
  {
   "cell_type": "code",
   "execution_count": 243,
   "metadata": {},
   "outputs": [],
   "source": [
    "# make animated bar chart to show changes in number of arrests during each week day over the years provided\n"
   ]
  },
  {
   "cell_type": "code",
   "execution_count": 244,
   "metadata": {},
   "outputs": [],
   "source": [
    "# view animation\n"
   ]
  },
  {
   "cell_type": "code",
   "execution_count": 221,
   "metadata": {},
   "outputs": [],
   "source": [
    "# export animation to html\n",
    "animation_bar_arrests.write_html(\"weekday_arrest_trend_animation.html\")"
   ]
  },
  {
   "cell_type": "code",
   "execution_count": null,
   "metadata": {},
   "outputs": [],
   "source": []
  }
 ],
 "metadata": {
  "kernelspec": {
   "display_name": "Python 3",
   "language": "python",
   "name": "python3"
  },
  "language_info": {
   "codemirror_mode": {
    "name": "ipython",
    "version": 3
   },
   "file_extension": ".py",
   "mimetype": "text/x-python",
   "name": "python",
   "nbconvert_exporter": "python",
   "pygments_lexer": "ipython3",
   "version": "3.7.6"
  }
 },
 "nbformat": 4,
 "nbformat_minor": 4
}
