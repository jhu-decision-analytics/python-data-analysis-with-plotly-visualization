{
 "cells": [
  {
   "cell_type": "markdown",
   "metadata": {},
   "source": [
    "# Merging Datasets with Baltimore City Open Data"
   ]
  },
  {
   "cell_type": "markdown",
   "metadata": {},
   "source": [
    "In Excel, we used the `VLOOKUP` function to combine data in different workbooks or sheets based on shared ID column data in neighboring rows. To do this, we wrote the function: \n",
    "```\n",
    "=VLOOKUP(cell in old dataset that matches a value in the first column of new dataset, \n",
    "        selected data table of new dataset, \n",
    "        row number of new data to add to old dataset, \n",
    "        exact match (0) OR approximate match (1))\n",
    "```\n",
    "which allowed us to add a column of data from *new dataset* to *old dataset* based on some shared/linking data. "
   ]
  },
  {
   "cell_type": "markdown",
   "metadata": {},
   "source": [
    "This is super helpful and time efficient if we want to combine or condense information from different data sources our outputs, however, we're limited in the number of data columns we can transfer at a time (one) and how our final dataset appears (for example, if we want to only keep data that's in both sheets, we need to add an extra step of filtering out the null cells in the post-VLOOKUP spreadsheet. We can use **pandas merge** function to combine larger datasets in a similar way in Python, but with broader functionality."
   ]
  },
  {
   "cell_type": "markdown",
   "metadata": {},
   "source": [
    "## [Pandas Merge](https://pandas.pydata.org/pandas-docs/version/0.23.4/generated/pandas.merge.html) "
   ]
  },
  {
   "cell_type": "markdown",
   "metadata": {},
   "source": [
    "Pandas merge allows us to merge two pandas dataframes together using the following convention: \n",
    "\n",
    "```\n",
    "merged_df = pd.merge(left_df, \n",
    "                    right_df, \n",
    "                    how='inner', \n",
    "                    on=None, \n",
    "                    left_on=None, \n",
    "                    right_on=None, \n",
    "                    left_index=False, \n",
    "                    right_index=False, \n",
    "                    sort=False, \n",
    "                    suffixes=('_x', '_y'), \n",
    "                    copy=True, \n",
    "                    indicator=False, \n",
    "                    validate=None)\n",
    "```\n",
    "where we'll mostly need to be concerned with: \n",
    "\n",
    " - __merged_df__ is the newly defined dataframe from the merged data\n",
    " - __pd__ is because we're using a pandas function\n",
    " - __merge__ is the pandas function that we're using to merge the dataframes\n",
    " - __left_df__ is the name of the dataframe that's our designated \"left\" dataframe\n",
    " - __right_df__ is the name of the dataframe that's our designated \"right\" dataframee\n",
    " - __how__ tells our dataframe how we want to merge the data (more details below)\n",
    " - __left_on__ is the name of the column that contains our \"matching data\" in the left dataframe\n",
    " - __right_on__ is the name of the column that contains our \"matching data\" in the right dataframe\n",
    " - __on__ is what we can use to define the column that contains our \"matching data\" is the column name is the same in both dataframes\n",
    "\n",
    "The rest of these values are the default merge functions (defined [here](https://pandas.pydata.org/pandas-docs/version/0.23.4/generated/pandas.merge.html)), most of which we won't often need to tweak."
   ]
  },
  {
   "cell_type": "markdown",
   "metadata": {},
   "source": [
    "### Dataframes to Merge"
   ]
  },
  {
   "cell_type": "markdown",
   "metadata": {},
   "source": [
    "In Excel, we can only transer data from one dataset to another, but in Python, we can merge all of the information from both datasets together, if we want. To merge our data, we'll identify the left and right data frame based on what data we want to merge onto existing data. \n",
    "\n",
    "For example, if we want to only merge a few columns from dataset df_A onto dataset df_B, we'll want to define df_B as the left dataframe and df_A as the right dataframe because we want to keep all of the data from df_B and add on some columns from df_A. However, we we want to merge all of the columns from df_A and df_B, then it doesn't really matter which dataframe we define as the left and right dataframe."
   ]
  },
  {
   "cell_type": "markdown",
   "metadata": {},
   "source": [
    "### Types of Merging "
   ]
  },
  {
   "cell_type": "markdown",
   "metadata": {},
   "source": [
    "Unlike in Excel, we can merge our data in in many different variations through the merge parameter in the merge function depending on how we define our right and left dataframes. In general, we can merge our left and right dataframes in the following ways:\n",
    " - __\"left\"__ merges data from the right dataframe onto the left dataframe *only if* if has a key that matches values in the left dataframe and fills in \"NaN\" (null) values in rows that don't have a value in the key column from the right dataframe\n",
    " - __\"right\"__ merges data from the left dataframe onto the right dataframe *only if* if has a key that matches values in the right dataframe and fills in \"NaN\" (null) values in rows that don't have a value in the key column from the left dataframe\n",
    " - __\"outer\"__ merges together and all of the data in both dataframes on the key column and fills in an \"NaN\" value for the columns and rows that don't have values or matches in the key column\n",
    " - __\"inner\"__ merges together only data that's in *both* dataframes\n",
    " \n",
    "To get a better idea of what this means, we'll run through some examples of dataframe mergine with [Baltimore City 911 Call data](https://data.baltimorecity.gov/Public-Safety/911-Police-Calls-for-Service/xviu-ezkt), [Baltimore Victim Crime Data](https://data.baltimorecity.gov/Public-Safety/BPD-Part-1-Victim-Based-Crime-Data/wsfq-mvij), and [Baltimore City Police Department Arrest Data](https://data.baltimorecity.gov/Public-Safety/BPD-Arrests/3i3v-ibrt)."
   ]
  },
  {
   "cell_type": "markdown",
   "metadata": {},
   "source": [
    "## import packages "
   ]
  },
  {
   "cell_type": "code",
   "execution_count": 120,
   "metadata": {},
   "outputs": [],
   "source": [
    "# import packages for data analysis and visualization\n",
    "import pandas as pd\n",
    "import plotly.express as px"
   ]
  },
  {
   "cell_type": "markdown",
   "metadata": {},
   "source": [
    "## import data "
   ]
  },
  {
   "cell_type": "code",
   "execution_count": 121,
   "metadata": {},
   "outputs": [],
   "source": [
    "# import bpd arrest data\n",
    "df_arrest = pd.read_csv(\"BPD_Arrests.csv\")"
   ]
  },
  {
   "cell_type": "code",
   "execution_count": 122,
   "metadata": {},
   "outputs": [
    {
     "data": {
      "text/html": [
       "<div>\n",
       "<style scoped>\n",
       "    .dataframe tbody tr th:only-of-type {\n",
       "        vertical-align: middle;\n",
       "    }\n",
       "\n",
       "    .dataframe tbody tr th {\n",
       "        vertical-align: top;\n",
       "    }\n",
       "\n",
       "    .dataframe thead th {\n",
       "        text-align: right;\n",
       "    }\n",
       "</style>\n",
       "<table border=\"1\" class=\"dataframe\">\n",
       "  <thead>\n",
       "    <tr style=\"text-align: right;\">\n",
       "      <th></th>\n",
       "      <th>Arrest</th>\n",
       "      <th>Age</th>\n",
       "      <th>Sex</th>\n",
       "      <th>Race</th>\n",
       "      <th>ArrestDate</th>\n",
       "      <th>ArrestTime</th>\n",
       "      <th>ArrestLocation</th>\n",
       "      <th>IncidentOffense</th>\n",
       "      <th>IncidentLocation</th>\n",
       "      <th>Charge</th>\n",
       "      <th>ChargeDescription</th>\n",
       "      <th>District</th>\n",
       "      <th>Post</th>\n",
       "      <th>Neighborhood</th>\n",
       "      <th>Longitude</th>\n",
       "      <th>Latitude</th>\n",
       "      <th>Location 1</th>\n",
       "      <th>2010 Census Neighborhoods</th>\n",
       "      <th>2010 Census Wards Precincts</th>\n",
       "      <th>Zip Codes</th>\n",
       "    </tr>\n",
       "  </thead>\n",
       "  <tbody>\n",
       "    <tr>\n",
       "      <th>0</th>\n",
       "      <td>14215855.0</td>\n",
       "      <td>37.0</td>\n",
       "      <td>M</td>\n",
       "      <td>W</td>\n",
       "      <td>12/31/2014</td>\n",
       "      <td>04:00</td>\n",
       "      <td>NaN</td>\n",
       "      <td>Unknown Offense</td>\n",
       "      <td>NaN</td>\n",
       "      <td>NaN</td>\n",
       "      <td>FUGITIVE FROM COLORADO</td>\n",
       "      <td>NaN</td>\n",
       "      <td>NaN</td>\n",
       "      <td>NaN</td>\n",
       "      <td>NaN</td>\n",
       "      <td>NaN</td>\n",
       "      <td>NaN</td>\n",
       "      <td>NaN</td>\n",
       "      <td>NaN</td>\n",
       "      <td>NaN</td>\n",
       "    </tr>\n",
       "    <tr>\n",
       "      <th>1</th>\n",
       "      <td>NaN</td>\n",
       "      <td>24.0</td>\n",
       "      <td>M</td>\n",
       "      <td>B</td>\n",
       "      <td>12/30/2015</td>\n",
       "      <td>14:30</td>\n",
       "      <td>NaN</td>\n",
       "      <td>Unknown Offense</td>\n",
       "      <td>NaN</td>\n",
       "      <td>NaN</td>\n",
       "      <td>Unknown Charge</td>\n",
       "      <td>NaN</td>\n",
       "      <td>NaN</td>\n",
       "      <td>NaN</td>\n",
       "      <td>NaN</td>\n",
       "      <td>NaN</td>\n",
       "      <td>NaN</td>\n",
       "      <td>NaN</td>\n",
       "      <td>NaN</td>\n",
       "      <td>NaN</td>\n",
       "    </tr>\n",
       "    <tr>\n",
       "      <th>2</th>\n",
       "      <td>NaN</td>\n",
       "      <td>41.0</td>\n",
       "      <td>M</td>\n",
       "      <td>B</td>\n",
       "      <td>12/14/2019</td>\n",
       "      <td>16:35</td>\n",
       "      <td>NaN</td>\n",
       "      <td>Unknown Offense</td>\n",
       "      <td>NaN</td>\n",
       "      <td>NaN</td>\n",
       "      <td>Unknown Charge</td>\n",
       "      <td>NaN</td>\n",
       "      <td>NaN</td>\n",
       "      <td>NaN</td>\n",
       "      <td>NaN</td>\n",
       "      <td>NaN</td>\n",
       "      <td>NaN</td>\n",
       "      <td>NaN</td>\n",
       "      <td>NaN</td>\n",
       "      <td>NaN</td>\n",
       "    </tr>\n",
       "    <tr>\n",
       "      <th>3</th>\n",
       "      <td>NaN</td>\n",
       "      <td>46.0</td>\n",
       "      <td>M</td>\n",
       "      <td>W</td>\n",
       "      <td>12/11/2019</td>\n",
       "      <td>15:45</td>\n",
       "      <td>NaN</td>\n",
       "      <td>Unknown Offense</td>\n",
       "      <td>NaN</td>\n",
       "      <td>NaN</td>\n",
       "      <td>Unknown Charge</td>\n",
       "      <td>NaN</td>\n",
       "      <td>NaN</td>\n",
       "      <td>NaN</td>\n",
       "      <td>NaN</td>\n",
       "      <td>NaN</td>\n",
       "      <td>NaN</td>\n",
       "      <td>NaN</td>\n",
       "      <td>NaN</td>\n",
       "      <td>NaN</td>\n",
       "    </tr>\n",
       "    <tr>\n",
       "      <th>4</th>\n",
       "      <td>19174456.0</td>\n",
       "      <td>39.0</td>\n",
       "      <td>F</td>\n",
       "      <td>B</td>\n",
       "      <td>12/10/2019</td>\n",
       "      <td>10:48</td>\n",
       "      <td>NaN</td>\n",
       "      <td>Unknown Offense</td>\n",
       "      <td>NaN</td>\n",
       "      <td>NaN</td>\n",
       "      <td>DETAIN ONLY</td>\n",
       "      <td>NaN</td>\n",
       "      <td>NaN</td>\n",
       "      <td>NaN</td>\n",
       "      <td>NaN</td>\n",
       "      <td>NaN</td>\n",
       "      <td>NaN</td>\n",
       "      <td>NaN</td>\n",
       "      <td>NaN</td>\n",
       "      <td>NaN</td>\n",
       "    </tr>\n",
       "  </tbody>\n",
       "</table>\n",
       "</div>"
      ],
      "text/plain": [
       "       Arrest   Age Sex Race  ArrestDate ArrestTime ArrestLocation  \\\n",
       "0  14215855.0  37.0   M    W  12/31/2014      04:00            NaN   \n",
       "1         NaN  24.0   M    B  12/30/2015      14:30            NaN   \n",
       "2         NaN  41.0   M    B  12/14/2019      16:35            NaN   \n",
       "3         NaN  46.0   M    W  12/11/2019      15:45            NaN   \n",
       "4  19174456.0  39.0   F    B  12/10/2019      10:48            NaN   \n",
       "\n",
       "   IncidentOffense IncidentLocation Charge       ChargeDescription District  \\\n",
       "0  Unknown Offense              NaN    NaN  FUGITIVE FROM COLORADO      NaN   \n",
       "1  Unknown Offense              NaN    NaN          Unknown Charge      NaN   \n",
       "2  Unknown Offense              NaN    NaN          Unknown Charge      NaN   \n",
       "3  Unknown Offense              NaN    NaN          Unknown Charge      NaN   \n",
       "4  Unknown Offense              NaN    NaN             DETAIN ONLY      NaN   \n",
       "\n",
       "   Post  Neighborhood  Longitude  Latitude  Location 1  \\\n",
       "0   NaN           NaN        NaN       NaN         NaN   \n",
       "1   NaN           NaN        NaN       NaN         NaN   \n",
       "2   NaN           NaN        NaN       NaN         NaN   \n",
       "3   NaN           NaN        NaN       NaN         NaN   \n",
       "4   NaN           NaN        NaN       NaN         NaN   \n",
       "\n",
       "   2010 Census Neighborhoods  2010 Census Wards Precincts  Zip Codes  \n",
       "0                        NaN                          NaN        NaN  \n",
       "1                        NaN                          NaN        NaN  \n",
       "2                        NaN                          NaN        NaN  \n",
       "3                        NaN                          NaN        NaN  \n",
       "4                        NaN                          NaN        NaN  "
      ]
     },
     "execution_count": 122,
     "metadata": {},
     "output_type": "execute_result"
    }
   ],
   "source": [
    "# preview arrest data\n",
    "df_arrest.head()"
   ]
  },
  {
   "cell_type": "code",
   "execution_count": null,
   "metadata": {},
   "outputs": [],
   "source": []
  },
  {
   "cell_type": "code",
   "execution_count": 127,
   "metadata": {},
   "outputs": [],
   "source": [
    "# import baltimore city 911 call data\n",
    "df_911 = pd.read_csv(\"911_Police_Calls_for_Service.csv\", low_memory = False)"
   ]
  },
  {
   "cell_type": "code",
   "execution_count": 128,
   "metadata": {},
   "outputs": [
    {
     "data": {
      "text/html": [
       "<div>\n",
       "<style scoped>\n",
       "    .dataframe tbody tr th:only-of-type {\n",
       "        vertical-align: middle;\n",
       "    }\n",
       "\n",
       "    .dataframe tbody tr th {\n",
       "        vertical-align: top;\n",
       "    }\n",
       "\n",
       "    .dataframe thead th {\n",
       "        text-align: right;\n",
       "    }\n",
       "</style>\n",
       "<table border=\"1\" class=\"dataframe\">\n",
       "  <thead>\n",
       "    <tr style=\"text-align: right;\">\n",
       "      <th></th>\n",
       "      <th>RecordID</th>\n",
       "      <th>CallNumber</th>\n",
       "      <th>CallDateTime</th>\n",
       "      <th>Priority</th>\n",
       "      <th>District</th>\n",
       "      <th>Description</th>\n",
       "      <th>IncidentLocation</th>\n",
       "      <th>ZipCode</th>\n",
       "      <th>Neighborhood</th>\n",
       "      <th>PoliceDistrict</th>\n",
       "      <th>PolicePost</th>\n",
       "      <th>CouncilDistrict</th>\n",
       "      <th>SheriffDistricts</th>\n",
       "      <th>Community_Statistical_Areas</th>\n",
       "      <th>Census_Tracts</th>\n",
       "      <th>VRIZones</th>\n",
       "      <th>Location</th>\n",
       "      <th>2010 Census Neighborhoods</th>\n",
       "      <th>2010 Census Wards Precincts</th>\n",
       "      <th>Zip Codes</th>\n",
       "    </tr>\n",
       "  </thead>\n",
       "  <tbody>\n",
       "    <tr>\n",
       "      <th>0</th>\n",
       "      <td>2333660</td>\n",
       "      <td>P163072128</td>\n",
       "      <td>11/02/2016 04:46:00 PM</td>\n",
       "      <td>Medium</td>\n",
       "      <td>SD</td>\n",
       "      <td>NARCOTICSOutside</td>\n",
       "      <td>1200 W CROSS ST</td>\n",
       "      <td>21230.0</td>\n",
       "      <td>Washington Village/Pigtown</td>\n",
       "      <td>Southern</td>\n",
       "      <td>932.0</td>\n",
       "      <td>10.0</td>\n",
       "      <td>D7</td>\n",
       "      <td>Washington Village/Pigtown</td>\n",
       "      <td>Census Tract 2102</td>\n",
       "      <td>NaN</td>\n",
       "      <td>1200 W CROSS ST\\nBALTIMORE, MD\\n(39.281995, -7...</td>\n",
       "      <td>250.0</td>\n",
       "      <td>177.0</td>\n",
       "      <td>27953.0</td>\n",
       "    </tr>\n",
       "    <tr>\n",
       "      <th>1</th>\n",
       "      <td>2334887</td>\n",
       "      <td>P163070732</td>\n",
       "      <td>11/02/2016 09:22:00 AM</td>\n",
       "      <td>High</td>\n",
       "      <td>SW</td>\n",
       "      <td>Traffic Stop</td>\n",
       "      <td>2100 W PRATT ST</td>\n",
       "      <td>21223.0</td>\n",
       "      <td>Carrollton Ridge</td>\n",
       "      <td>Southwestern</td>\n",
       "      <td>841.0</td>\n",
       "      <td>9.0</td>\n",
       "      <td>D8</td>\n",
       "      <td>Southwest Baltimore</td>\n",
       "      <td>Census Tract 2005</td>\n",
       "      <td>Tri-District</td>\n",
       "      <td>2100 W PRATT ST\\nBALTIMORE, MD\\n(39.284965, -7...</td>\n",
       "      <td>36.0</td>\n",
       "      <td>279.0</td>\n",
       "      <td>27632.0</td>\n",
       "    </tr>\n",
       "    <tr>\n",
       "      <th>2</th>\n",
       "      <td>2334245</td>\n",
       "      <td>P163071480</td>\n",
       "      <td>11/02/2016 01:37:00 PM</td>\n",
       "      <td>Low</td>\n",
       "      <td>SE</td>\n",
       "      <td>LARCENY F/AUTO</td>\n",
       "      <td>HOME DEPOT</td>\n",
       "      <td>21224.0</td>\n",
       "      <td>Pulaski Industrial Area</td>\n",
       "      <td>Southeastern</td>\n",
       "      <td>242.0</td>\n",
       "      <td>1.0</td>\n",
       "      <td>D6</td>\n",
       "      <td>Orangeville/East Highlandtown</td>\n",
       "      <td>Census Tract 2605.01</td>\n",
       "      <td>NaN</td>\n",
       "      <td>HOME DEPOT BALTIMORE, MD\\n(39.499699, -76.641403)</td>\n",
       "      <td>NaN</td>\n",
       "      <td>NaN</td>\n",
       "      <td>3490.0</td>\n",
       "    </tr>\n",
       "    <tr>\n",
       "      <th>3</th>\n",
       "      <td>2332907</td>\n",
       "      <td>P163072974</td>\n",
       "      <td>11/02/2016 08:20:00 PM</td>\n",
       "      <td>Medium</td>\n",
       "      <td>ND</td>\n",
       "      <td>911/NO  VOICE</td>\n",
       "      <td>5200 YORK RD</td>\n",
       "      <td>21212.0</td>\n",
       "      <td>York-Homeland</td>\n",
       "      <td>Northern</td>\n",
       "      <td>521.0</td>\n",
       "      <td>4.0</td>\n",
       "      <td>D2</td>\n",
       "      <td>North Baltimore/Guilford/Homeland</td>\n",
       "      <td>Census Tract 2711.01</td>\n",
       "      <td>NaN</td>\n",
       "      <td>5200 YORK RD\\nBALTIMORE, MD\\n(39.352315, -76.6...</td>\n",
       "      <td>273.0</td>\n",
       "      <td>217.0</td>\n",
       "      <td>14009.0</td>\n",
       "    </tr>\n",
       "    <tr>\n",
       "      <th>4</th>\n",
       "      <td>2332699</td>\n",
       "      <td>P163073203</td>\n",
       "      <td>11/02/2016 09:39:00 PM</td>\n",
       "      <td>Medium</td>\n",
       "      <td>NW</td>\n",
       "      <td>COMMON ASSAULT</td>\n",
       "      <td>2500 N ELLAMONT ST</td>\n",
       "      <td>21216.0</td>\n",
       "      <td>Hanlon-Longwood</td>\n",
       "      <td>Northwestern</td>\n",
       "      <td>641.0</td>\n",
       "      <td>7.0</td>\n",
       "      <td>D9</td>\n",
       "      <td>Greater Mondawmin</td>\n",
       "      <td>Census Tract 1507.01</td>\n",
       "      <td>NaN</td>\n",
       "      <td>2500 N ELLAMONT ST\\nBALTIMORE, MD\\n(39.315441,...</td>\n",
       "      <td>103.0</td>\n",
       "      <td>46.0</td>\n",
       "      <td>27297.0</td>\n",
       "    </tr>\n",
       "  </tbody>\n",
       "</table>\n",
       "</div>"
      ],
      "text/plain": [
       "   RecordID  CallNumber            CallDateTime Priority District  \\\n",
       "0   2333660  P163072128  11/02/2016 04:46:00 PM   Medium       SD   \n",
       "1   2334887  P163070732  11/02/2016 09:22:00 AM     High       SW   \n",
       "2   2334245  P163071480  11/02/2016 01:37:00 PM      Low       SE   \n",
       "3   2332907  P163072974  11/02/2016 08:20:00 PM   Medium       ND   \n",
       "4   2332699  P163073203  11/02/2016 09:39:00 PM   Medium       NW   \n",
       "\n",
       "        Description    IncidentLocation  ZipCode                Neighborhood  \\\n",
       "0  NARCOTICSOutside     1200 W CROSS ST  21230.0  Washington Village/Pigtown   \n",
       "1      Traffic Stop     2100 W PRATT ST  21223.0            Carrollton Ridge   \n",
       "2    LARCENY F/AUTO          HOME DEPOT  21224.0     Pulaski Industrial Area   \n",
       "3     911/NO  VOICE        5200 YORK RD  21212.0               York-Homeland   \n",
       "4    COMMON ASSAULT  2500 N ELLAMONT ST  21216.0             Hanlon-Longwood   \n",
       "\n",
       "  PoliceDistrict  PolicePost  CouncilDistrict SheriffDistricts  \\\n",
       "0       Southern       932.0             10.0               D7   \n",
       "1   Southwestern       841.0              9.0               D8   \n",
       "2   Southeastern       242.0              1.0               D6   \n",
       "3       Northern       521.0              4.0               D2   \n",
       "4   Northwestern       641.0              7.0               D9   \n",
       "\n",
       "         Community_Statistical_Areas         Census_Tracts      VRIZones  \\\n",
       "0         Washington Village/Pigtown     Census Tract 2102           NaN   \n",
       "1                Southwest Baltimore     Census Tract 2005  Tri-District   \n",
       "2      Orangeville/East Highlandtown  Census Tract 2605.01           NaN   \n",
       "3  North Baltimore/Guilford/Homeland  Census Tract 2711.01           NaN   \n",
       "4                  Greater Mondawmin  Census Tract 1507.01           NaN   \n",
       "\n",
       "                                            Location  \\\n",
       "0  1200 W CROSS ST\\nBALTIMORE, MD\\n(39.281995, -7...   \n",
       "1  2100 W PRATT ST\\nBALTIMORE, MD\\n(39.284965, -7...   \n",
       "2  HOME DEPOT BALTIMORE, MD\\n(39.499699, -76.641403)   \n",
       "3  5200 YORK RD\\nBALTIMORE, MD\\n(39.352315, -76.6...   \n",
       "4  2500 N ELLAMONT ST\\nBALTIMORE, MD\\n(39.315441,...   \n",
       "\n",
       "   2010 Census Neighborhoods  2010 Census Wards Precincts  Zip Codes  \n",
       "0                      250.0                        177.0    27953.0  \n",
       "1                       36.0                        279.0    27632.0  \n",
       "2                        NaN                          NaN     3490.0  \n",
       "3                      273.0                        217.0    14009.0  \n",
       "4                      103.0                         46.0    27297.0  "
      ]
     },
     "execution_count": 128,
     "metadata": {},
     "output_type": "execute_result"
    }
   ],
   "source": [
    "# preview 911 data:\n",
    "df_911.head()"
   ]
  },
  {
   "cell_type": "code",
   "execution_count": 125,
   "metadata": {},
   "outputs": [
    {
     "name": "stderr",
     "output_type": "stream",
     "text": [
      "/Users/melanieshimano/opt/anaconda3/envs/decision-analytics/lib/python3.7/site-packages/IPython/core/interactiveshell.py:3063: DtypeWarning:\n",
      "\n",
      "Columns (7) have mixed types.Specify dtype option on import or set low_memory=False.\n",
      "\n"
     ]
    }
   ],
   "source": [
    "# import victim crime data\n",
    "df_crime = pd.read_csv(\"BPD_Part_1_Victim_Based_Crime_Data.csv\")"
   ]
  },
  {
   "cell_type": "code",
   "execution_count": 126,
   "metadata": {},
   "outputs": [
    {
     "data": {
      "text/html": [
       "<div>\n",
       "<style scoped>\n",
       "    .dataframe tbody tr th:only-of-type {\n",
       "        vertical-align: middle;\n",
       "    }\n",
       "\n",
       "    .dataframe tbody tr th {\n",
       "        vertical-align: top;\n",
       "    }\n",
       "\n",
       "    .dataframe thead th {\n",
       "        text-align: right;\n",
       "    }\n",
       "</style>\n",
       "<table border=\"1\" class=\"dataframe\">\n",
       "  <thead>\n",
       "    <tr style=\"text-align: right;\">\n",
       "      <th></th>\n",
       "      <th>CrimeDate</th>\n",
       "      <th>CrimeTime</th>\n",
       "      <th>CrimeCode</th>\n",
       "      <th>Location</th>\n",
       "      <th>Description</th>\n",
       "      <th>Inside/Outside</th>\n",
       "      <th>Weapon</th>\n",
       "      <th>Post</th>\n",
       "      <th>District</th>\n",
       "      <th>Neighborhood</th>\n",
       "      <th>Longitude</th>\n",
       "      <th>Latitude</th>\n",
       "      <th>Location 1</th>\n",
       "      <th>Premise</th>\n",
       "      <th>vri_name1</th>\n",
       "      <th>Total Incidents</th>\n",
       "    </tr>\n",
       "  </thead>\n",
       "  <tbody>\n",
       "    <tr>\n",
       "      <th>0</th>\n",
       "      <td>02/29/2020</td>\n",
       "      <td>20:45:00</td>\n",
       "      <td>6D</td>\n",
       "      <td>MONROE ST &amp; W PRATT ST</td>\n",
       "      <td>LARCENY FROM AUTO</td>\n",
       "      <td>NaN</td>\n",
       "      <td>NaN</td>\n",
       "      <td>934</td>\n",
       "      <td>SOUTHERN</td>\n",
       "      <td>NaN</td>\n",
       "      <td>-76.646758</td>\n",
       "      <td>39.285162</td>\n",
       "      <td>NaN</td>\n",
       "      <td>NaN</td>\n",
       "      <td>Tri-District</td>\n",
       "      <td>1</td>\n",
       "    </tr>\n",
       "    <tr>\n",
       "      <th>1</th>\n",
       "      <td>02/29/2020</td>\n",
       "      <td>22:00:00</td>\n",
       "      <td>6G</td>\n",
       "      <td>4200 ERDMAN AVE</td>\n",
       "      <td>LARCENY</td>\n",
       "      <td>I</td>\n",
       "      <td>NaN</td>\n",
       "      <td>434</td>\n",
       "      <td>NORTHEAST</td>\n",
       "      <td>ORANGEVILLE INDUSTRIAL AREA</td>\n",
       "      <td>-76.567706</td>\n",
       "      <td>39.313407</td>\n",
       "      <td>NaN</td>\n",
       "      <td>RETAIL/SMALL BUSINES</td>\n",
       "      <td>NaN</td>\n",
       "      <td>1</td>\n",
       "    </tr>\n",
       "    <tr>\n",
       "      <th>2</th>\n",
       "      <td>02/29/2020</td>\n",
       "      <td>18:55:00</td>\n",
       "      <td>3AJF</td>\n",
       "      <td>1700 WASHINGTON BLVD</td>\n",
       "      <td>ROBBERY - CARJACKING</td>\n",
       "      <td>O</td>\n",
       "      <td>FIREARM</td>\n",
       "      <td>935</td>\n",
       "      <td>SOUTHERN</td>\n",
       "      <td>CARROLL - CAMDEN INDUSTRIAL AREA</td>\n",
       "      <td>-76.641304</td>\n",
       "      <td>39.275903</td>\n",
       "      <td>NaN</td>\n",
       "      <td>BUS. PARK LOT-OUTSID</td>\n",
       "      <td>NaN</td>\n",
       "      <td>1</td>\n",
       "    </tr>\n",
       "    <tr>\n",
       "      <th>3</th>\n",
       "      <td>02/29/2020</td>\n",
       "      <td>21:27:00</td>\n",
       "      <td>7A</td>\n",
       "      <td>DUKELAND ST &amp; GWYNNS FALLS PY</td>\n",
       "      <td>AUTO THEFT</td>\n",
       "      <td>O</td>\n",
       "      <td>NaN</td>\n",
       "      <td>611</td>\n",
       "      <td>NORTHWEST</td>\n",
       "      <td>NaN</td>\n",
       "      <td>-76.664448</td>\n",
       "      <td>39.314691</td>\n",
       "      <td>NaN</td>\n",
       "      <td>OTHER - OUTSIDE</td>\n",
       "      <td>NaN</td>\n",
       "      <td>1</td>\n",
       "    </tr>\n",
       "    <tr>\n",
       "      <th>4</th>\n",
       "      <td>02/29/2020</td>\n",
       "      <td>10:26:00</td>\n",
       "      <td>4E</td>\n",
       "      <td>1000 APPLETON ST</td>\n",
       "      <td>COMMON ASSAULT</td>\n",
       "      <td>I</td>\n",
       "      <td>NaN</td>\n",
       "      <td>722</td>\n",
       "      <td>WESTERN</td>\n",
       "      <td>MIDTOWN EDMONDSON</td>\n",
       "      <td>-76.648418</td>\n",
       "      <td>39.300291</td>\n",
       "      <td>NaN</td>\n",
       "      <td>ROW/TOWNHOUSE-OCC</td>\n",
       "      <td>NaN</td>\n",
       "      <td>1</td>\n",
       "    </tr>\n",
       "  </tbody>\n",
       "</table>\n",
       "</div>"
      ],
      "text/plain": [
       "    CrimeDate CrimeTime CrimeCode                       Location  \\\n",
       "0  02/29/2020  20:45:00        6D         MONROE ST & W PRATT ST   \n",
       "1  02/29/2020  22:00:00        6G                4200 ERDMAN AVE   \n",
       "2  02/29/2020  18:55:00      3AJF           1700 WASHINGTON BLVD   \n",
       "3  02/29/2020  21:27:00        7A  DUKELAND ST & GWYNNS FALLS PY   \n",
       "4  02/29/2020  10:26:00        4E               1000 APPLETON ST   \n",
       "\n",
       "            Description Inside/Outside   Weapon Post   District  \\\n",
       "0     LARCENY FROM AUTO            NaN      NaN  934   SOUTHERN   \n",
       "1               LARCENY              I      NaN  434  NORTHEAST   \n",
       "2  ROBBERY - CARJACKING              O  FIREARM  935   SOUTHERN   \n",
       "3            AUTO THEFT              O      NaN  611  NORTHWEST   \n",
       "4        COMMON ASSAULT              I      NaN  722    WESTERN   \n",
       "\n",
       "                       Neighborhood  Longitude   Latitude  Location 1  \\\n",
       "0                               NaN -76.646758  39.285162         NaN   \n",
       "1       ORANGEVILLE INDUSTRIAL AREA -76.567706  39.313407         NaN   \n",
       "2  CARROLL - CAMDEN INDUSTRIAL AREA -76.641304  39.275903         NaN   \n",
       "3                               NaN -76.664448  39.314691         NaN   \n",
       "4                 MIDTOWN EDMONDSON -76.648418  39.300291         NaN   \n",
       "\n",
       "                Premise     vri_name1  Total Incidents  \n",
       "0                   NaN  Tri-District                1  \n",
       "1  RETAIL/SMALL BUSINES           NaN                1  \n",
       "2  BUS. PARK LOT-OUTSID           NaN                1  \n",
       "3       OTHER - OUTSIDE           NaN                1  \n",
       "4     ROW/TOWNHOUSE-OCC           NaN                1  "
      ]
     },
     "execution_count": 126,
     "metadata": {},
     "output_type": "execute_result"
    }
   ],
   "source": [
    "# preview crime data\n",
    "df_crime.head()"
   ]
  },
  {
   "cell_type": "markdown",
   "metadata": {},
   "source": [
    "In our datasets we have a lot of information about arrests, crime, and 911 calls in Baltimore. Let's say that we want to aggregate all of this to look at the number of 911 calls, arrests, and crimes happening every year. \n",
    "\n",
    "To do this, we'll first need to aggregate our dataframes to count the number of occurrances per year. "
   ]
  },
  {
   "cell_type": "markdown",
   "metadata": {},
   "source": [
    "## Data Cleaning "
   ]
  },
  {
   "cell_type": "code",
   "execution_count": 129,
   "metadata": {},
   "outputs": [
    {
     "name": "stdout",
     "output_type": "stream",
     "text": [
      "<class 'pandas.core.frame.DataFrame'>\n",
      "RangeIndex: 7475140 entries, 0 to 7475139\n",
      "Data columns (total 20 columns):\n",
      " #   Column                       Dtype  \n",
      "---  ------                       -----  \n",
      " 0   RecordID                     int64  \n",
      " 1   CallNumber                   object \n",
      " 2   CallDateTime                 object \n",
      " 3   Priority                     object \n",
      " 4   District                     object \n",
      " 5   Description                  object \n",
      " 6   IncidentLocation             object \n",
      " 7   ZipCode                      float64\n",
      " 8   Neighborhood                 object \n",
      " 9   PoliceDistrict               object \n",
      " 10  PolicePost                   float64\n",
      " 11  CouncilDistrict              float64\n",
      " 12  SheriffDistricts             object \n",
      " 13  Community_Statistical_Areas  object \n",
      " 14  Census_Tracts                object \n",
      " 15  VRIZones                     object \n",
      " 16  Location                     object \n",
      " 17  2010 Census Neighborhoods    float64\n",
      " 18  2010 Census Wards Precincts  float64\n",
      " 19  Zip Codes                    float64\n",
      "dtypes: float64(6), int64(1), object(13)\n",
      "memory usage: 1.1+ GB\n"
     ]
    }
   ],
   "source": [
    "# look at the data types for each of our datasets (911)\n",
    "df_911.info()"
   ]
  },
  {
   "cell_type": "code",
   "execution_count": 137,
   "metadata": {},
   "outputs": [
    {
     "name": "stdout",
     "output_type": "stream",
     "text": [
      "<class 'pandas.core.frame.DataFrame'>\n",
      "RangeIndex: 155461 entries, 0 to 155460\n",
      "Data columns (total 21 columns):\n",
      " #   Column                       Non-Null Count   Dtype         \n",
      "---  ------                       --------------   -----         \n",
      " 0   Arrest                       148070 non-null  float64       \n",
      " 1   Age                          155419 non-null  float64       \n",
      " 2   Sex                          155461 non-null  object        \n",
      " 3   Race                         155461 non-null  object        \n",
      " 4   ArrestDate                   155461 non-null  object        \n",
      " 5   ArrestTime                   155461 non-null  object        \n",
      " 6   ArrestLocation               82735 non-null   object        \n",
      " 7   IncidentOffense              155461 non-null  object        \n",
      " 8   IncidentLocation             82735 non-null   object        \n",
      " 9   Charge                       137953 non-null  object        \n",
      " 10  ChargeDescription            155461 non-null  object        \n",
      " 11  District                     81179 non-null   object        \n",
      " 12  Post                         81182 non-null   float64       \n",
      " 13  Neighborhood                 0 non-null       float64       \n",
      " 14  Longitude                    81368 non-null   float64       \n",
      " 15  Latitude                     81368 non-null   float64       \n",
      " 16  Location 1                   0 non-null       float64       \n",
      " 17  2010 Census Neighborhoods    0 non-null       float64       \n",
      " 18  2010 Census Wards Precincts  0 non-null       float64       \n",
      " 19  Zip Codes                    0 non-null       float64       \n",
      " 20  DateTime                     155461 non-null  datetime64[ns]\n",
      "dtypes: datetime64[ns](1), float64(10), object(10)\n",
      "memory usage: 24.9+ MB\n"
     ]
    }
   ],
   "source": [
    "# df_arrest info\n",
    "df_arrest.info()"
   ]
  },
  {
   "cell_type": "code",
   "execution_count": 138,
   "metadata": {},
   "outputs": [
    {
     "name": "stdout",
     "output_type": "stream",
     "text": [
      "<class 'pandas.core.frame.DataFrame'>\n",
      "RangeIndex: 295151 entries, 0 to 295150\n",
      "Data columns (total 17 columns):\n",
      " #   Column           Non-Null Count   Dtype         \n",
      "---  ------           --------------   -----         \n",
      " 0   CrimeDate        295151 non-null  object        \n",
      " 1   CrimeTime        295127 non-null  object        \n",
      " 2   CrimeCode        295151 non-null  object        \n",
      " 3   Location         293801 non-null  object        \n",
      " 4   Description      295151 non-null  object        \n",
      " 5   Inside/Outside   260796 non-null  object        \n",
      " 6   Weapon           62114 non-null   object        \n",
      " 7   Post             292750 non-null  object        \n",
      " 8   District         295151 non-null  object        \n",
      " 9   Neighborhood     284545 non-null  object        \n",
      " 10  Longitude        293491 non-null  float64       \n",
      " 11  Latitude         293491 non-null  float64       \n",
      " 12  Location 1       0 non-null       float64       \n",
      " 13  Premise          260544 non-null  object        \n",
      " 14  vri_name1        34879 non-null   object        \n",
      " 15  Total Incidents  295151 non-null  int64         \n",
      " 16  DateTime         295127 non-null  datetime64[ns]\n",
      "dtypes: datetime64[ns](1), float64(3), int64(1), object(12)\n",
      "memory usage: 38.3+ MB\n"
     ]
    }
   ],
   "source": [
    "# df crime info\n",
    "df_crime.info()"
   ]
  },
  {
   "cell_type": "markdown",
   "metadata": {},
   "source": [
    "### Convert columns to datetime datatype "
   ]
  },
  {
   "cell_type": "markdown",
   "metadata": {},
   "source": [
    "We see that none of our datasets have our date or time values as datasets, so we'll need to convert them to datetime formats similar to our work last week."
   ]
  },
  {
   "cell_type": "code",
   "execution_count": 133,
   "metadata": {},
   "outputs": [],
   "source": [
    "# create a new column in the arrest data with both of the date and time data\n",
    "df_arrest[\"DateTime\"] = df_arrest[\"ArrestDate\"] + \" \" + df_arrest[\"ArrestTime\"]"
   ]
  },
  {
   "cell_type": "code",
   "execution_count": 134,
   "metadata": {},
   "outputs": [],
   "source": [
    "# convert arrest date time column to a datetime data type\n",
    "df_arrest[\"DateTime\"] = pd.to_datetime(df_arrest[\"DateTime\"])"
   ]
  },
  {
   "cell_type": "code",
   "execution_count": 135,
   "metadata": {},
   "outputs": [],
   "source": [
    "# create a new column in the crime dataset with both the date and time data\n",
    "df_crime[\"DateTime\"] = df_crime[\"CrimeDate\"] + \" \" + df_crime[\"CrimeTime\"]"
   ]
  },
  {
   "cell_type": "code",
   "execution_count": 136,
   "metadata": {},
   "outputs": [],
   "source": [
    "# convert crime date time column into a datetime datatype\n",
    "df_crime[\"DateTime\"] = pd.to_datetime(df_crime[\"DateTime\"])"
   ]
  },
  {
   "cell_type": "markdown",
   "metadata": {},
   "source": [
    "We need to define the format of our datetime object in the 911 call data because we have an AM/PM string in the date time value. We also need to do this if our datetime string that we want to convert into a datetime object is in any format other than `month/date/year 24hour:min:second`\n",
    "\n",
    "A full list of the formatting for datetime is listed [here](https://www.programiz.com/python-programming/datetime/strftime). Our 911 data's CallDateTime column lists values like `11/02/2016 04:46:00 PM`, so we'll need to define our datetime column with: \n",
    "\n",
    " - __%m__ for month\n",
    " - __%d__ for day\n",
    " - __%Y__ for 4-digit year\n",
    " - __%I__ for 12-hour clock\n",
    " - __%M__ for minute\n",
    " - __%S__ for second\n",
    " - __%p__ for am/pm"
   ]
  },
  {
   "cell_type": "code",
   "execution_count": 139,
   "metadata": {},
   "outputs": [],
   "source": [
    "# convert the 911 date time column into a datetime datatype (since the values are already together in one column)\n",
    "df_911[\"DateTime\"] = pd.to_datetime(df_911[\"CallDateTime\"], format = \"%m/%d/%Y %I:%M:%S %p\")"
   ]
  },
  {
   "cell_type": "code",
   "execution_count": 140,
   "metadata": {},
   "outputs": [
    {
     "data": {
      "text/html": [
       "<div>\n",
       "<style scoped>\n",
       "    .dataframe tbody tr th:only-of-type {\n",
       "        vertical-align: middle;\n",
       "    }\n",
       "\n",
       "    .dataframe tbody tr th {\n",
       "        vertical-align: top;\n",
       "    }\n",
       "\n",
       "    .dataframe thead th {\n",
       "        text-align: right;\n",
       "    }\n",
       "</style>\n",
       "<table border=\"1\" class=\"dataframe\">\n",
       "  <thead>\n",
       "    <tr style=\"text-align: right;\">\n",
       "      <th></th>\n",
       "      <th>RecordID</th>\n",
       "      <th>CallNumber</th>\n",
       "      <th>CallDateTime</th>\n",
       "      <th>Priority</th>\n",
       "      <th>District</th>\n",
       "      <th>Description</th>\n",
       "      <th>IncidentLocation</th>\n",
       "      <th>ZipCode</th>\n",
       "      <th>Neighborhood</th>\n",
       "      <th>PoliceDistrict</th>\n",
       "      <th>...</th>\n",
       "      <th>CouncilDistrict</th>\n",
       "      <th>SheriffDistricts</th>\n",
       "      <th>Community_Statistical_Areas</th>\n",
       "      <th>Census_Tracts</th>\n",
       "      <th>VRIZones</th>\n",
       "      <th>Location</th>\n",
       "      <th>2010 Census Neighborhoods</th>\n",
       "      <th>2010 Census Wards Precincts</th>\n",
       "      <th>Zip Codes</th>\n",
       "      <th>DateTime</th>\n",
       "    </tr>\n",
       "  </thead>\n",
       "  <tbody>\n",
       "    <tr>\n",
       "      <th>0</th>\n",
       "      <td>2333660</td>\n",
       "      <td>P163072128</td>\n",
       "      <td>11/02/2016 04:46:00 PM</td>\n",
       "      <td>Medium</td>\n",
       "      <td>SD</td>\n",
       "      <td>NARCOTICSOutside</td>\n",
       "      <td>1200 W CROSS ST</td>\n",
       "      <td>21230.0</td>\n",
       "      <td>Washington Village/Pigtown</td>\n",
       "      <td>Southern</td>\n",
       "      <td>...</td>\n",
       "      <td>10.0</td>\n",
       "      <td>D7</td>\n",
       "      <td>Washington Village/Pigtown</td>\n",
       "      <td>Census Tract 2102</td>\n",
       "      <td>NaN</td>\n",
       "      <td>1200 W CROSS ST\\nBALTIMORE, MD\\n(39.281995, -7...</td>\n",
       "      <td>250.0</td>\n",
       "      <td>177.0</td>\n",
       "      <td>27953.0</td>\n",
       "      <td>2016-11-02 16:46:00</td>\n",
       "    </tr>\n",
       "    <tr>\n",
       "      <th>1</th>\n",
       "      <td>2334887</td>\n",
       "      <td>P163070732</td>\n",
       "      <td>11/02/2016 09:22:00 AM</td>\n",
       "      <td>High</td>\n",
       "      <td>SW</td>\n",
       "      <td>Traffic Stop</td>\n",
       "      <td>2100 W PRATT ST</td>\n",
       "      <td>21223.0</td>\n",
       "      <td>Carrollton Ridge</td>\n",
       "      <td>Southwestern</td>\n",
       "      <td>...</td>\n",
       "      <td>9.0</td>\n",
       "      <td>D8</td>\n",
       "      <td>Southwest Baltimore</td>\n",
       "      <td>Census Tract 2005</td>\n",
       "      <td>Tri-District</td>\n",
       "      <td>2100 W PRATT ST\\nBALTIMORE, MD\\n(39.284965, -7...</td>\n",
       "      <td>36.0</td>\n",
       "      <td>279.0</td>\n",
       "      <td>27632.0</td>\n",
       "      <td>2016-11-02 09:22:00</td>\n",
       "    </tr>\n",
       "    <tr>\n",
       "      <th>2</th>\n",
       "      <td>2334245</td>\n",
       "      <td>P163071480</td>\n",
       "      <td>11/02/2016 01:37:00 PM</td>\n",
       "      <td>Low</td>\n",
       "      <td>SE</td>\n",
       "      <td>LARCENY F/AUTO</td>\n",
       "      <td>HOME DEPOT</td>\n",
       "      <td>21224.0</td>\n",
       "      <td>Pulaski Industrial Area</td>\n",
       "      <td>Southeastern</td>\n",
       "      <td>...</td>\n",
       "      <td>1.0</td>\n",
       "      <td>D6</td>\n",
       "      <td>Orangeville/East Highlandtown</td>\n",
       "      <td>Census Tract 2605.01</td>\n",
       "      <td>NaN</td>\n",
       "      <td>HOME DEPOT BALTIMORE, MD\\n(39.499699, -76.641403)</td>\n",
       "      <td>NaN</td>\n",
       "      <td>NaN</td>\n",
       "      <td>3490.0</td>\n",
       "      <td>2016-11-02 13:37:00</td>\n",
       "    </tr>\n",
       "  </tbody>\n",
       "</table>\n",
       "<p>3 rows × 21 columns</p>\n",
       "</div>"
      ],
      "text/plain": [
       "   RecordID  CallNumber            CallDateTime Priority District  \\\n",
       "0   2333660  P163072128  11/02/2016 04:46:00 PM   Medium       SD   \n",
       "1   2334887  P163070732  11/02/2016 09:22:00 AM     High       SW   \n",
       "2   2334245  P163071480  11/02/2016 01:37:00 PM      Low       SE   \n",
       "\n",
       "        Description IncidentLocation  ZipCode                Neighborhood  \\\n",
       "0  NARCOTICSOutside  1200 W CROSS ST  21230.0  Washington Village/Pigtown   \n",
       "1      Traffic Stop  2100 W PRATT ST  21223.0            Carrollton Ridge   \n",
       "2    LARCENY F/AUTO       HOME DEPOT  21224.0     Pulaski Industrial Area   \n",
       "\n",
       "  PoliceDistrict  ...  CouncilDistrict  SheriffDistricts  \\\n",
       "0       Southern  ...             10.0                D7   \n",
       "1   Southwestern  ...              9.0                D8   \n",
       "2   Southeastern  ...              1.0                D6   \n",
       "\n",
       "     Community_Statistical_Areas         Census_Tracts      VRIZones  \\\n",
       "0     Washington Village/Pigtown     Census Tract 2102           NaN   \n",
       "1            Southwest Baltimore     Census Tract 2005  Tri-District   \n",
       "2  Orangeville/East Highlandtown  Census Tract 2605.01           NaN   \n",
       "\n",
       "                                            Location  \\\n",
       "0  1200 W CROSS ST\\nBALTIMORE, MD\\n(39.281995, -7...   \n",
       "1  2100 W PRATT ST\\nBALTIMORE, MD\\n(39.284965, -7...   \n",
       "2  HOME DEPOT BALTIMORE, MD\\n(39.499699, -76.641403)   \n",
       "\n",
       "  2010 Census Neighborhoods  2010 Census Wards Precincts  Zip Codes  \\\n",
       "0                     250.0                        177.0    27953.0   \n",
       "1                      36.0                        279.0    27632.0   \n",
       "2                       NaN                          NaN     3490.0   \n",
       "\n",
       "             DateTime  \n",
       "0 2016-11-02 16:46:00  \n",
       "1 2016-11-02 09:22:00  \n",
       "2 2016-11-02 13:37:00  \n",
       "\n",
       "[3 rows x 21 columns]"
      ]
     },
     "execution_count": 140,
     "metadata": {},
     "output_type": "execute_result"
    }
   ],
   "source": [
    "df_911.head(3)"
   ]
  },
  {
   "cell_type": "markdown",
   "metadata": {},
   "source": [
    "Now if we look the `df.info()` all of the date time datatypes should be datetime datatypes."
   ]
  },
  {
   "cell_type": "markdown",
   "metadata": {},
   "source": [
    "#### Data Aggregation by Year"
   ]
  },
  {
   "cell_type": "markdown",
   "metadata": {},
   "source": [
    "Now, let's aggregate the counts of each of our datatypes by the year by first creating a \"year\" column in each of our dataframes, then using the pandas groupby function to aggregate the counts of each dataset per year. \n"
   ]
  },
  {
   "cell_type": "markdown",
   "metadata": {},
   "source": [
    "We can either do this one at a time for each of our datasets similar to what we've done before, however, since we're using the dt.year function for all three datasets, we can take advantage of a python __for loop__ to do this with a little less code using the following convention: \n",
    "```\n",
    "for __value__ in __range or list__:\n",
    "    *do some action*\n",
    "```\n",
    "Which will allow us to perform the same action to whatever we've defined in the list. We want to add a \"year\" column to each of our dataframes by calling the same df.year function on the DateTime column, so we can make a list of the dataframes and tell our loop to create a new column based on the DateTime column for each dataframe. Note that this works since all of the date time columns are named the same \"DateTime\" name. If they weren't, we would need to rename the columns to make this for loop work.\n",
    "  "
   ]
  },
  {
   "cell_type": "code",
   "execution_count": 141,
   "metadata": {},
   "outputs": [],
   "source": [
    "# create list of dataframes\n",
    "df_list = [df_911, df_arrest, df_crime]"
   ]
  },
  {
   "cell_type": "markdown",
   "metadata": {},
   "source": [
    "We'll write: \n",
    "\n",
    "```\n",
    "for df in df_list:\n",
    "    df[\"year\"] = df[\"DateTime\"].dt.year\n",
    "```\n",
    "\n",
    "Where the __df__ is a placeholder that we've defined as a variable for the df in our repeating action. This can be anything as long as it's consistent and the same in the functions within the for loop. __df_list__ is the list we defined with all of our dataframes.\n",
    "\n",
    "Essentially what we're saying is that for each value in our df_lists, plug in each list value any time you see a \"df\" and perform the function. "
   ]
  },
  {
   "cell_type": "code",
   "execution_count": 142,
   "metadata": {},
   "outputs": [],
   "source": [
    "# write a for loop to add a year column to the data\n",
    "for df in df_list: \n",
    "    df[\"year\"] = df[\"DateTime\"].dt.year"
   ]
  },
  {
   "cell_type": "code",
   "execution_count": 144,
   "metadata": {},
   "outputs": [],
   "source": [
    "# write a for loop to add a month column to the data\n",
    "for df in df_list: \n",
    "    df[\"month\"] = df[\"DateTime\"].dt.month"
   ]
  },
  {
   "cell_type": "code",
   "execution_count": 145,
   "metadata": {},
   "outputs": [
    {
     "data": {
      "text/html": [
       "<div>\n",
       "<style scoped>\n",
       "    .dataframe tbody tr th:only-of-type {\n",
       "        vertical-align: middle;\n",
       "    }\n",
       "\n",
       "    .dataframe tbody tr th {\n",
       "        vertical-align: top;\n",
       "    }\n",
       "\n",
       "    .dataframe thead th {\n",
       "        text-align: right;\n",
       "    }\n",
       "</style>\n",
       "<table border=\"1\" class=\"dataframe\">\n",
       "  <thead>\n",
       "    <tr style=\"text-align: right;\">\n",
       "      <th></th>\n",
       "      <th>CrimeDate</th>\n",
       "      <th>CrimeTime</th>\n",
       "      <th>CrimeCode</th>\n",
       "      <th>Location</th>\n",
       "      <th>Description</th>\n",
       "      <th>Inside/Outside</th>\n",
       "      <th>Weapon</th>\n",
       "      <th>Post</th>\n",
       "      <th>District</th>\n",
       "      <th>Neighborhood</th>\n",
       "      <th>Longitude</th>\n",
       "      <th>Latitude</th>\n",
       "      <th>Location 1</th>\n",
       "      <th>Premise</th>\n",
       "      <th>vri_name1</th>\n",
       "      <th>Total Incidents</th>\n",
       "      <th>DateTime</th>\n",
       "      <th>year</th>\n",
       "      <th>month</th>\n",
       "    </tr>\n",
       "  </thead>\n",
       "  <tbody>\n",
       "    <tr>\n",
       "      <th>0</th>\n",
       "      <td>02/29/2020</td>\n",
       "      <td>20:45:00</td>\n",
       "      <td>6D</td>\n",
       "      <td>MONROE ST &amp; W PRATT ST</td>\n",
       "      <td>LARCENY FROM AUTO</td>\n",
       "      <td>NaN</td>\n",
       "      <td>NaN</td>\n",
       "      <td>934</td>\n",
       "      <td>SOUTHERN</td>\n",
       "      <td>NaN</td>\n",
       "      <td>-76.646758</td>\n",
       "      <td>39.285162</td>\n",
       "      <td>NaN</td>\n",
       "      <td>NaN</td>\n",
       "      <td>Tri-District</td>\n",
       "      <td>1</td>\n",
       "      <td>2020-02-29 20:45:00</td>\n",
       "      <td>2020.0</td>\n",
       "      <td>2.0</td>\n",
       "    </tr>\n",
       "    <tr>\n",
       "      <th>1</th>\n",
       "      <td>02/29/2020</td>\n",
       "      <td>22:00:00</td>\n",
       "      <td>6G</td>\n",
       "      <td>4200 ERDMAN AVE</td>\n",
       "      <td>LARCENY</td>\n",
       "      <td>I</td>\n",
       "      <td>NaN</td>\n",
       "      <td>434</td>\n",
       "      <td>NORTHEAST</td>\n",
       "      <td>ORANGEVILLE INDUSTRIAL AREA</td>\n",
       "      <td>-76.567706</td>\n",
       "      <td>39.313407</td>\n",
       "      <td>NaN</td>\n",
       "      <td>RETAIL/SMALL BUSINES</td>\n",
       "      <td>NaN</td>\n",
       "      <td>1</td>\n",
       "      <td>2020-02-29 22:00:00</td>\n",
       "      <td>2020.0</td>\n",
       "      <td>2.0</td>\n",
       "    </tr>\n",
       "    <tr>\n",
       "      <th>2</th>\n",
       "      <td>02/29/2020</td>\n",
       "      <td>18:55:00</td>\n",
       "      <td>3AJF</td>\n",
       "      <td>1700 WASHINGTON BLVD</td>\n",
       "      <td>ROBBERY - CARJACKING</td>\n",
       "      <td>O</td>\n",
       "      <td>FIREARM</td>\n",
       "      <td>935</td>\n",
       "      <td>SOUTHERN</td>\n",
       "      <td>CARROLL - CAMDEN INDUSTRIAL AREA</td>\n",
       "      <td>-76.641304</td>\n",
       "      <td>39.275903</td>\n",
       "      <td>NaN</td>\n",
       "      <td>BUS. PARK LOT-OUTSID</td>\n",
       "      <td>NaN</td>\n",
       "      <td>1</td>\n",
       "      <td>2020-02-29 18:55:00</td>\n",
       "      <td>2020.0</td>\n",
       "      <td>2.0</td>\n",
       "    </tr>\n",
       "  </tbody>\n",
       "</table>\n",
       "</div>"
      ],
      "text/plain": [
       "    CrimeDate CrimeTime CrimeCode                Location  \\\n",
       "0  02/29/2020  20:45:00        6D  MONROE ST & W PRATT ST   \n",
       "1  02/29/2020  22:00:00        6G         4200 ERDMAN AVE   \n",
       "2  02/29/2020  18:55:00      3AJF    1700 WASHINGTON BLVD   \n",
       "\n",
       "            Description Inside/Outside   Weapon Post   District  \\\n",
       "0     LARCENY FROM AUTO            NaN      NaN  934   SOUTHERN   \n",
       "1               LARCENY              I      NaN  434  NORTHEAST   \n",
       "2  ROBBERY - CARJACKING              O  FIREARM  935   SOUTHERN   \n",
       "\n",
       "                       Neighborhood  Longitude   Latitude  Location 1  \\\n",
       "0                               NaN -76.646758  39.285162         NaN   \n",
       "1       ORANGEVILLE INDUSTRIAL AREA -76.567706  39.313407         NaN   \n",
       "2  CARROLL - CAMDEN INDUSTRIAL AREA -76.641304  39.275903         NaN   \n",
       "\n",
       "                Premise     vri_name1  Total Incidents            DateTime  \\\n",
       "0                   NaN  Tri-District                1 2020-02-29 20:45:00   \n",
       "1  RETAIL/SMALL BUSINES           NaN                1 2020-02-29 22:00:00   \n",
       "2  BUS. PARK LOT-OUTSID           NaN                1 2020-02-29 18:55:00   \n",
       "\n",
       "     year  month  \n",
       "0  2020.0    2.0  \n",
       "1  2020.0    2.0  \n",
       "2  2020.0    2.0  "
      ]
     },
     "execution_count": 145,
     "metadata": {},
     "output_type": "execute_result"
    }
   ],
   "source": [
    "# so if we preview the crime data now, we see the year column\n",
    "df_crime.head(3)"
   ]
  },
  {
   "cell_type": "markdown",
   "metadata": {},
   "source": [
    "Now, we can aggregate the counts by year. We'll do this individually for this round since all of the columns that we want to count are named different things. \n",
    "\n",
    "Since we're combining all of this data at the end, we'll also want to rename our column data to specify which counts are in that column by defining the column name in the `.agg` function"
   ]
  },
  {
   "cell_type": "code",
   "execution_count": 154,
   "metadata": {},
   "outputs": [],
   "source": [
    "# aggregate counts of 911 data\n",
    "df_911_count = df_911.groupby(\"year\")[\"CallDateTime\"].agg(CallCount = \"count\").reset_index()"
   ]
  },
  {
   "cell_type": "code",
   "execution_count": 155,
   "metadata": {},
   "outputs": [
    {
     "data": {
      "text/html": [
       "<div>\n",
       "<style scoped>\n",
       "    .dataframe tbody tr th:only-of-type {\n",
       "        vertical-align: middle;\n",
       "    }\n",
       "\n",
       "    .dataframe tbody tr th {\n",
       "        vertical-align: top;\n",
       "    }\n",
       "\n",
       "    .dataframe thead th {\n",
       "        text-align: right;\n",
       "    }\n",
       "</style>\n",
       "<table border=\"1\" class=\"dataframe\">\n",
       "  <thead>\n",
       "    <tr style=\"text-align: right;\">\n",
       "      <th></th>\n",
       "      <th>year</th>\n",
       "      <th>CallCount</th>\n",
       "    </tr>\n",
       "  </thead>\n",
       "  <tbody>\n",
       "    <tr>\n",
       "      <th>0</th>\n",
       "      <td>2013</td>\n",
       "      <td>553998</td>\n",
       "    </tr>\n",
       "    <tr>\n",
       "      <th>1</th>\n",
       "      <td>2014</td>\n",
       "      <td>1073050</td>\n",
       "    </tr>\n",
       "    <tr>\n",
       "      <th>2</th>\n",
       "      <td>2015</td>\n",
       "      <td>1079493</td>\n",
       "    </tr>\n",
       "    <tr>\n",
       "      <th>3</th>\n",
       "      <td>2016</td>\n",
       "      <td>1052941</td>\n",
       "    </tr>\n",
       "    <tr>\n",
       "      <th>4</th>\n",
       "      <td>2017</td>\n",
       "      <td>1006292</td>\n",
       "    </tr>\n",
       "    <tr>\n",
       "      <th>5</th>\n",
       "      <td>2018</td>\n",
       "      <td>997079</td>\n",
       "    </tr>\n",
       "    <tr>\n",
       "      <th>6</th>\n",
       "      <td>2019</td>\n",
       "      <td>1442651</td>\n",
       "    </tr>\n",
       "    <tr>\n",
       "      <th>7</th>\n",
       "      <td>2020</td>\n",
       "      <td>269636</td>\n",
       "    </tr>\n",
       "  </tbody>\n",
       "</table>\n",
       "</div>"
      ],
      "text/plain": [
       "   year  CallCount\n",
       "0  2013     553998\n",
       "1  2014    1073050\n",
       "2  2015    1079493\n",
       "3  2016    1052941\n",
       "4  2017    1006292\n",
       "5  2018     997079\n",
       "6  2019    1442651\n",
       "7  2020     269636"
      ]
     },
     "execution_count": 155,
     "metadata": {},
     "output_type": "execute_result"
    }
   ],
   "source": [
    "# preview data\n",
    "df_911_count"
   ]
  },
  {
   "cell_type": "code",
   "execution_count": 156,
   "metadata": {},
   "outputs": [],
   "source": [
    "# aggregate counts of crime\n",
    "df_crime_count = df_crime.groupby(\"year\")[\"CrimeDate\"].agg(CrimeCount = \"count\").reset_index()"
   ]
  },
  {
   "cell_type": "code",
   "execution_count": 157,
   "metadata": {},
   "outputs": [
    {
     "data": {
      "text/html": [
       "<div>\n",
       "<style scoped>\n",
       "    .dataframe tbody tr th:only-of-type {\n",
       "        vertical-align: middle;\n",
       "    }\n",
       "\n",
       "    .dataframe tbody tr th {\n",
       "        vertical-align: top;\n",
       "    }\n",
       "\n",
       "    .dataframe thead th {\n",
       "        text-align: right;\n",
       "    }\n",
       "</style>\n",
       "<table border=\"1\" class=\"dataframe\">\n",
       "  <thead>\n",
       "    <tr style=\"text-align: right;\">\n",
       "      <th></th>\n",
       "      <th>year</th>\n",
       "      <th>CrimeCount</th>\n",
       "    </tr>\n",
       "  </thead>\n",
       "  <tbody>\n",
       "    <tr>\n",
       "      <th>0</th>\n",
       "      <td>1963.0</td>\n",
       "      <td>1</td>\n",
       "    </tr>\n",
       "    <tr>\n",
       "      <th>1</th>\n",
       "      <td>1969.0</td>\n",
       "      <td>1</td>\n",
       "    </tr>\n",
       "    <tr>\n",
       "      <th>2</th>\n",
       "      <td>1975.0</td>\n",
       "      <td>1</td>\n",
       "    </tr>\n",
       "    <tr>\n",
       "      <th>3</th>\n",
       "      <td>1977.0</td>\n",
       "      <td>1</td>\n",
       "    </tr>\n",
       "    <tr>\n",
       "      <th>4</th>\n",
       "      <td>1978.0</td>\n",
       "      <td>1</td>\n",
       "    </tr>\n",
       "    <tr>\n",
       "      <th>5</th>\n",
       "      <td>1980.0</td>\n",
       "      <td>1</td>\n",
       "    </tr>\n",
       "    <tr>\n",
       "      <th>6</th>\n",
       "      <td>1981.0</td>\n",
       "      <td>1</td>\n",
       "    </tr>\n",
       "    <tr>\n",
       "      <th>7</th>\n",
       "      <td>1982.0</td>\n",
       "      <td>1</td>\n",
       "    </tr>\n",
       "    <tr>\n",
       "      <th>8</th>\n",
       "      <td>1985.0</td>\n",
       "      <td>1</td>\n",
       "    </tr>\n",
       "    <tr>\n",
       "      <th>9</th>\n",
       "      <td>1988.0</td>\n",
       "      <td>1</td>\n",
       "    </tr>\n",
       "    <tr>\n",
       "      <th>10</th>\n",
       "      <td>1993.0</td>\n",
       "      <td>2</td>\n",
       "    </tr>\n",
       "    <tr>\n",
       "      <th>11</th>\n",
       "      <td>1995.0</td>\n",
       "      <td>2</td>\n",
       "    </tr>\n",
       "    <tr>\n",
       "      <th>12</th>\n",
       "      <td>1998.0</td>\n",
       "      <td>2</td>\n",
       "    </tr>\n",
       "    <tr>\n",
       "      <th>13</th>\n",
       "      <td>1999.0</td>\n",
       "      <td>2</td>\n",
       "    </tr>\n",
       "    <tr>\n",
       "      <th>14</th>\n",
       "      <td>2000.0</td>\n",
       "      <td>3</td>\n",
       "    </tr>\n",
       "    <tr>\n",
       "      <th>15</th>\n",
       "      <td>2001.0</td>\n",
       "      <td>3</td>\n",
       "    </tr>\n",
       "    <tr>\n",
       "      <th>16</th>\n",
       "      <td>2003.0</td>\n",
       "      <td>1</td>\n",
       "    </tr>\n",
       "    <tr>\n",
       "      <th>17</th>\n",
       "      <td>2004.0</td>\n",
       "      <td>2</td>\n",
       "    </tr>\n",
       "    <tr>\n",
       "      <th>18</th>\n",
       "      <td>2006.0</td>\n",
       "      <td>1</td>\n",
       "    </tr>\n",
       "    <tr>\n",
       "      <th>19</th>\n",
       "      <td>2007.0</td>\n",
       "      <td>5</td>\n",
       "    </tr>\n",
       "    <tr>\n",
       "      <th>20</th>\n",
       "      <td>2008.0</td>\n",
       "      <td>5</td>\n",
       "    </tr>\n",
       "    <tr>\n",
       "      <th>21</th>\n",
       "      <td>2009.0</td>\n",
       "      <td>7</td>\n",
       "    </tr>\n",
       "    <tr>\n",
       "      <th>22</th>\n",
       "      <td>2010.0</td>\n",
       "      <td>3</td>\n",
       "    </tr>\n",
       "    <tr>\n",
       "      <th>23</th>\n",
       "      <td>2011.0</td>\n",
       "      <td>9</td>\n",
       "    </tr>\n",
       "    <tr>\n",
       "      <th>24</th>\n",
       "      <td>2012.0</td>\n",
       "      <td>10</td>\n",
       "    </tr>\n",
       "    <tr>\n",
       "      <th>25</th>\n",
       "      <td>2013.0</td>\n",
       "      <td>15</td>\n",
       "    </tr>\n",
       "    <tr>\n",
       "      <th>26</th>\n",
       "      <td>2014.0</td>\n",
       "      <td>45304</td>\n",
       "    </tr>\n",
       "    <tr>\n",
       "      <th>27</th>\n",
       "      <td>2015.0</td>\n",
       "      <td>48186</td>\n",
       "    </tr>\n",
       "    <tr>\n",
       "      <th>28</th>\n",
       "      <td>2016.0</td>\n",
       "      <td>48772</td>\n",
       "    </tr>\n",
       "    <tr>\n",
       "      <th>29</th>\n",
       "      <td>2017.0</td>\n",
       "      <td>52162</td>\n",
       "    </tr>\n",
       "    <tr>\n",
       "      <th>30</th>\n",
       "      <td>2018.0</td>\n",
       "      <td>48445</td>\n",
       "    </tr>\n",
       "    <tr>\n",
       "      <th>31</th>\n",
       "      <td>2019.0</td>\n",
       "      <td>46078</td>\n",
       "    </tr>\n",
       "    <tr>\n",
       "      <th>32</th>\n",
       "      <td>2020.0</td>\n",
       "      <td>6098</td>\n",
       "    </tr>\n",
       "  </tbody>\n",
       "</table>\n",
       "</div>"
      ],
      "text/plain": [
       "      year  CrimeCount\n",
       "0   1963.0           1\n",
       "1   1969.0           1\n",
       "2   1975.0           1\n",
       "3   1977.0           1\n",
       "4   1978.0           1\n",
       "5   1980.0           1\n",
       "6   1981.0           1\n",
       "7   1982.0           1\n",
       "8   1985.0           1\n",
       "9   1988.0           1\n",
       "10  1993.0           2\n",
       "11  1995.0           2\n",
       "12  1998.0           2\n",
       "13  1999.0           2\n",
       "14  2000.0           3\n",
       "15  2001.0           3\n",
       "16  2003.0           1\n",
       "17  2004.0           2\n",
       "18  2006.0           1\n",
       "19  2007.0           5\n",
       "20  2008.0           5\n",
       "21  2009.0           7\n",
       "22  2010.0           3\n",
       "23  2011.0           9\n",
       "24  2012.0          10\n",
       "25  2013.0          15\n",
       "26  2014.0       45304\n",
       "27  2015.0       48186\n",
       "28  2016.0       48772\n",
       "29  2017.0       52162\n",
       "30  2018.0       48445\n",
       "31  2019.0       46078\n",
       "32  2020.0        6098"
      ]
     },
     "execution_count": 157,
     "metadata": {},
     "output_type": "execute_result"
    }
   ],
   "source": [
    "# preview data\n",
    "df_crime_count"
   ]
  },
  {
   "cell_type": "code",
   "execution_count": 158,
   "metadata": {},
   "outputs": [],
   "source": [
    "# aggregate counts of arrests\n",
    "df_arrest_count = df_arrest.groupby(\"year\")[\"ArrestDate\"].agg(ArrestCount = \"count\").reset_index()"
   ]
  },
  {
   "cell_type": "code",
   "execution_count": 159,
   "metadata": {},
   "outputs": [
    {
     "data": {
      "text/html": [
       "<div>\n",
       "<style scoped>\n",
       "    .dataframe tbody tr th:only-of-type {\n",
       "        vertical-align: middle;\n",
       "    }\n",
       "\n",
       "    .dataframe tbody tr th {\n",
       "        vertical-align: top;\n",
       "    }\n",
       "\n",
       "    .dataframe thead th {\n",
       "        text-align: right;\n",
       "    }\n",
       "</style>\n",
       "<table border=\"1\" class=\"dataframe\">\n",
       "  <thead>\n",
       "    <tr style=\"text-align: right;\">\n",
       "      <th></th>\n",
       "      <th>year</th>\n",
       "      <th>ArrestCount</th>\n",
       "    </tr>\n",
       "  </thead>\n",
       "  <tbody>\n",
       "    <tr>\n",
       "      <th>0</th>\n",
       "      <td>2014</td>\n",
       "      <td>38182</td>\n",
       "    </tr>\n",
       "    <tr>\n",
       "      <th>1</th>\n",
       "      <td>2015</td>\n",
       "      <td>26509</td>\n",
       "    </tr>\n",
       "    <tr>\n",
       "      <th>2</th>\n",
       "      <td>2016</td>\n",
       "      <td>23912</td>\n",
       "    </tr>\n",
       "    <tr>\n",
       "      <th>3</th>\n",
       "      <td>2017</td>\n",
       "      <td>23741</td>\n",
       "    </tr>\n",
       "    <tr>\n",
       "      <th>4</th>\n",
       "      <td>2018</td>\n",
       "      <td>21434</td>\n",
       "    </tr>\n",
       "    <tr>\n",
       "      <th>5</th>\n",
       "      <td>2019</td>\n",
       "      <td>19862</td>\n",
       "    </tr>\n",
       "    <tr>\n",
       "      <th>6</th>\n",
       "      <td>2020</td>\n",
       "      <td>1821</td>\n",
       "    </tr>\n",
       "  </tbody>\n",
       "</table>\n",
       "</div>"
      ],
      "text/plain": [
       "   year  ArrestCount\n",
       "0  2014        38182\n",
       "1  2015        26509\n",
       "2  2016        23912\n",
       "3  2017        23741\n",
       "4  2018        21434\n",
       "5  2019        19862\n",
       "6  2020         1821"
      ]
     },
     "execution_count": 159,
     "metadata": {},
     "output_type": "execute_result"
    }
   ],
   "source": [
    "# preview data\n",
    "df_arrest_count"
   ]
  },
  {
   "cell_type": "markdown",
   "metadata": {},
   "source": [
    "### Merging Data "
   ]
  },
  {
   "cell_type": "markdown",
   "metadata": {},
   "source": [
    "Now we can finally merge all of our data into one dataframe that merges the counts of crime, 911, and arrest data into one dataframe.\n",
    "\n",
    "If we look at the length of each dataframe, we can see that some of the datasets have data for more years than other datasets: "
   ]
  },
  {
   "cell_type": "code",
   "execution_count": 160,
   "metadata": {},
   "outputs": [
    {
     "data": {
      "text/plain": [
       "33"
      ]
     },
     "execution_count": 160,
     "metadata": {},
     "output_type": "execute_result"
    }
   ],
   "source": [
    "# length of crime year counts\n",
    "len(df_crime_count)"
   ]
  },
  {
   "cell_type": "code",
   "execution_count": 161,
   "metadata": {},
   "outputs": [
    {
     "data": {
      "text/plain": [
       "295151"
      ]
     },
     "execution_count": 161,
     "metadata": {},
     "output_type": "execute_result"
    }
   ],
   "source": [
    "# length of crime dataset\n",
    "len(df_crime)"
   ]
  },
  {
   "cell_type": "code",
   "execution_count": 105,
   "metadata": {},
   "outputs": [],
   "source": [
    "# length of 911 call year counts\n"
   ]
  },
  {
   "cell_type": "code",
   "execution_count": 106,
   "metadata": {},
   "outputs": [],
   "source": [
    "# length of arrest year counts\n"
   ]
  },
  {
   "cell_type": "markdown",
   "metadata": {},
   "source": [
    "Since the crime count has the most years listed, we'll merge the arrest and crime counts onto the crime count dataframe with the `df.merge` function: "
   ]
  },
  {
   "cell_type": "code",
   "execution_count": 167,
   "metadata": {},
   "outputs": [],
   "source": [
    "# merge the 911 call counts onto the crime count dataframe\n",
    "df_safety_merge = pd.merge(df_crime_count, df_arrest_count, on = \"year\", how = \"left\")"
   ]
  },
  {
   "cell_type": "code",
   "execution_count": 168,
   "metadata": {},
   "outputs": [
    {
     "data": {
      "text/html": [
       "<div>\n",
       "<style scoped>\n",
       "    .dataframe tbody tr th:only-of-type {\n",
       "        vertical-align: middle;\n",
       "    }\n",
       "\n",
       "    .dataframe tbody tr th {\n",
       "        vertical-align: top;\n",
       "    }\n",
       "\n",
       "    .dataframe thead th {\n",
       "        text-align: right;\n",
       "    }\n",
       "</style>\n",
       "<table border=\"1\" class=\"dataframe\">\n",
       "  <thead>\n",
       "    <tr style=\"text-align: right;\">\n",
       "      <th></th>\n",
       "      <th>year</th>\n",
       "      <th>CrimeCount</th>\n",
       "      <th>ArrestCount</th>\n",
       "    </tr>\n",
       "  </thead>\n",
       "  <tbody>\n",
       "    <tr>\n",
       "      <th>0</th>\n",
       "      <td>1963.0</td>\n",
       "      <td>1</td>\n",
       "      <td>NaN</td>\n",
       "    </tr>\n",
       "    <tr>\n",
       "      <th>1</th>\n",
       "      <td>1969.0</td>\n",
       "      <td>1</td>\n",
       "      <td>NaN</td>\n",
       "    </tr>\n",
       "    <tr>\n",
       "      <th>2</th>\n",
       "      <td>1975.0</td>\n",
       "      <td>1</td>\n",
       "      <td>NaN</td>\n",
       "    </tr>\n",
       "    <tr>\n",
       "      <th>3</th>\n",
       "      <td>1977.0</td>\n",
       "      <td>1</td>\n",
       "      <td>NaN</td>\n",
       "    </tr>\n",
       "    <tr>\n",
       "      <th>4</th>\n",
       "      <td>1978.0</td>\n",
       "      <td>1</td>\n",
       "      <td>NaN</td>\n",
       "    </tr>\n",
       "    <tr>\n",
       "      <th>5</th>\n",
       "      <td>1980.0</td>\n",
       "      <td>1</td>\n",
       "      <td>NaN</td>\n",
       "    </tr>\n",
       "    <tr>\n",
       "      <th>6</th>\n",
       "      <td>1981.0</td>\n",
       "      <td>1</td>\n",
       "      <td>NaN</td>\n",
       "    </tr>\n",
       "    <tr>\n",
       "      <th>7</th>\n",
       "      <td>1982.0</td>\n",
       "      <td>1</td>\n",
       "      <td>NaN</td>\n",
       "    </tr>\n",
       "    <tr>\n",
       "      <th>8</th>\n",
       "      <td>1985.0</td>\n",
       "      <td>1</td>\n",
       "      <td>NaN</td>\n",
       "    </tr>\n",
       "    <tr>\n",
       "      <th>9</th>\n",
       "      <td>1988.0</td>\n",
       "      <td>1</td>\n",
       "      <td>NaN</td>\n",
       "    </tr>\n",
       "    <tr>\n",
       "      <th>10</th>\n",
       "      <td>1993.0</td>\n",
       "      <td>2</td>\n",
       "      <td>NaN</td>\n",
       "    </tr>\n",
       "    <tr>\n",
       "      <th>11</th>\n",
       "      <td>1995.0</td>\n",
       "      <td>2</td>\n",
       "      <td>NaN</td>\n",
       "    </tr>\n",
       "    <tr>\n",
       "      <th>12</th>\n",
       "      <td>1998.0</td>\n",
       "      <td>2</td>\n",
       "      <td>NaN</td>\n",
       "    </tr>\n",
       "    <tr>\n",
       "      <th>13</th>\n",
       "      <td>1999.0</td>\n",
       "      <td>2</td>\n",
       "      <td>NaN</td>\n",
       "    </tr>\n",
       "    <tr>\n",
       "      <th>14</th>\n",
       "      <td>2000.0</td>\n",
       "      <td>3</td>\n",
       "      <td>NaN</td>\n",
       "    </tr>\n",
       "    <tr>\n",
       "      <th>15</th>\n",
       "      <td>2001.0</td>\n",
       "      <td>3</td>\n",
       "      <td>NaN</td>\n",
       "    </tr>\n",
       "    <tr>\n",
       "      <th>16</th>\n",
       "      <td>2003.0</td>\n",
       "      <td>1</td>\n",
       "      <td>NaN</td>\n",
       "    </tr>\n",
       "    <tr>\n",
       "      <th>17</th>\n",
       "      <td>2004.0</td>\n",
       "      <td>2</td>\n",
       "      <td>NaN</td>\n",
       "    </tr>\n",
       "    <tr>\n",
       "      <th>18</th>\n",
       "      <td>2006.0</td>\n",
       "      <td>1</td>\n",
       "      <td>NaN</td>\n",
       "    </tr>\n",
       "    <tr>\n",
       "      <th>19</th>\n",
       "      <td>2007.0</td>\n",
       "      <td>5</td>\n",
       "      <td>NaN</td>\n",
       "    </tr>\n",
       "    <tr>\n",
       "      <th>20</th>\n",
       "      <td>2008.0</td>\n",
       "      <td>5</td>\n",
       "      <td>NaN</td>\n",
       "    </tr>\n",
       "    <tr>\n",
       "      <th>21</th>\n",
       "      <td>2009.0</td>\n",
       "      <td>7</td>\n",
       "      <td>NaN</td>\n",
       "    </tr>\n",
       "    <tr>\n",
       "      <th>22</th>\n",
       "      <td>2010.0</td>\n",
       "      <td>3</td>\n",
       "      <td>NaN</td>\n",
       "    </tr>\n",
       "    <tr>\n",
       "      <th>23</th>\n",
       "      <td>2011.0</td>\n",
       "      <td>9</td>\n",
       "      <td>NaN</td>\n",
       "    </tr>\n",
       "    <tr>\n",
       "      <th>24</th>\n",
       "      <td>2012.0</td>\n",
       "      <td>10</td>\n",
       "      <td>NaN</td>\n",
       "    </tr>\n",
       "    <tr>\n",
       "      <th>25</th>\n",
       "      <td>2013.0</td>\n",
       "      <td>15</td>\n",
       "      <td>NaN</td>\n",
       "    </tr>\n",
       "    <tr>\n",
       "      <th>26</th>\n",
       "      <td>2014.0</td>\n",
       "      <td>45304</td>\n",
       "      <td>38182.0</td>\n",
       "    </tr>\n",
       "    <tr>\n",
       "      <th>27</th>\n",
       "      <td>2015.0</td>\n",
       "      <td>48186</td>\n",
       "      <td>26509.0</td>\n",
       "    </tr>\n",
       "    <tr>\n",
       "      <th>28</th>\n",
       "      <td>2016.0</td>\n",
       "      <td>48772</td>\n",
       "      <td>23912.0</td>\n",
       "    </tr>\n",
       "    <tr>\n",
       "      <th>29</th>\n",
       "      <td>2017.0</td>\n",
       "      <td>52162</td>\n",
       "      <td>23741.0</td>\n",
       "    </tr>\n",
       "    <tr>\n",
       "      <th>30</th>\n",
       "      <td>2018.0</td>\n",
       "      <td>48445</td>\n",
       "      <td>21434.0</td>\n",
       "    </tr>\n",
       "    <tr>\n",
       "      <th>31</th>\n",
       "      <td>2019.0</td>\n",
       "      <td>46078</td>\n",
       "      <td>19862.0</td>\n",
       "    </tr>\n",
       "    <tr>\n",
       "      <th>32</th>\n",
       "      <td>2020.0</td>\n",
       "      <td>6098</td>\n",
       "      <td>1821.0</td>\n",
       "    </tr>\n",
       "  </tbody>\n",
       "</table>\n",
       "</div>"
      ],
      "text/plain": [
       "      year  CrimeCount  ArrestCount\n",
       "0   1963.0           1          NaN\n",
       "1   1969.0           1          NaN\n",
       "2   1975.0           1          NaN\n",
       "3   1977.0           1          NaN\n",
       "4   1978.0           1          NaN\n",
       "5   1980.0           1          NaN\n",
       "6   1981.0           1          NaN\n",
       "7   1982.0           1          NaN\n",
       "8   1985.0           1          NaN\n",
       "9   1988.0           1          NaN\n",
       "10  1993.0           2          NaN\n",
       "11  1995.0           2          NaN\n",
       "12  1998.0           2          NaN\n",
       "13  1999.0           2          NaN\n",
       "14  2000.0           3          NaN\n",
       "15  2001.0           3          NaN\n",
       "16  2003.0           1          NaN\n",
       "17  2004.0           2          NaN\n",
       "18  2006.0           1          NaN\n",
       "19  2007.0           5          NaN\n",
       "20  2008.0           5          NaN\n",
       "21  2009.0           7          NaN\n",
       "22  2010.0           3          NaN\n",
       "23  2011.0           9          NaN\n",
       "24  2012.0          10          NaN\n",
       "25  2013.0          15          NaN\n",
       "26  2014.0       45304      38182.0\n",
       "27  2015.0       48186      26509.0\n",
       "28  2016.0       48772      23912.0\n",
       "29  2017.0       52162      23741.0\n",
       "30  2018.0       48445      21434.0\n",
       "31  2019.0       46078      19862.0\n",
       "32  2020.0        6098       1821.0"
      ]
     },
     "execution_count": 168,
     "metadata": {},
     "output_type": "execute_result"
    }
   ],
   "source": [
    "# preview tail data\n",
    "df_safety_merge"
   ]
  },
  {
   "cell_type": "code",
   "execution_count": 169,
   "metadata": {},
   "outputs": [],
   "source": [
    "# merge the arrest count onto the merged df\n",
    "df_safety_merge = pd.merge(df_safety_merge, df_911_count, on = \"year\", how = \"left\")"
   ]
  },
  {
   "cell_type": "code",
   "execution_count": 170,
   "metadata": {},
   "outputs": [
    {
     "data": {
      "text/html": [
       "<div>\n",
       "<style scoped>\n",
       "    .dataframe tbody tr th:only-of-type {\n",
       "        vertical-align: middle;\n",
       "    }\n",
       "\n",
       "    .dataframe tbody tr th {\n",
       "        vertical-align: top;\n",
       "    }\n",
       "\n",
       "    .dataframe thead th {\n",
       "        text-align: right;\n",
       "    }\n",
       "</style>\n",
       "<table border=\"1\" class=\"dataframe\">\n",
       "  <thead>\n",
       "    <tr style=\"text-align: right;\">\n",
       "      <th></th>\n",
       "      <th>year</th>\n",
       "      <th>CrimeCount</th>\n",
       "      <th>ArrestCount</th>\n",
       "      <th>CallCount</th>\n",
       "    </tr>\n",
       "  </thead>\n",
       "  <tbody>\n",
       "    <tr>\n",
       "      <th>0</th>\n",
       "      <td>1963.0</td>\n",
       "      <td>1</td>\n",
       "      <td>NaN</td>\n",
       "      <td>NaN</td>\n",
       "    </tr>\n",
       "    <tr>\n",
       "      <th>1</th>\n",
       "      <td>1969.0</td>\n",
       "      <td>1</td>\n",
       "      <td>NaN</td>\n",
       "      <td>NaN</td>\n",
       "    </tr>\n",
       "    <tr>\n",
       "      <th>2</th>\n",
       "      <td>1975.0</td>\n",
       "      <td>1</td>\n",
       "      <td>NaN</td>\n",
       "      <td>NaN</td>\n",
       "    </tr>\n",
       "    <tr>\n",
       "      <th>3</th>\n",
       "      <td>1977.0</td>\n",
       "      <td>1</td>\n",
       "      <td>NaN</td>\n",
       "      <td>NaN</td>\n",
       "    </tr>\n",
       "    <tr>\n",
       "      <th>4</th>\n",
       "      <td>1978.0</td>\n",
       "      <td>1</td>\n",
       "      <td>NaN</td>\n",
       "      <td>NaN</td>\n",
       "    </tr>\n",
       "    <tr>\n",
       "      <th>5</th>\n",
       "      <td>1980.0</td>\n",
       "      <td>1</td>\n",
       "      <td>NaN</td>\n",
       "      <td>NaN</td>\n",
       "    </tr>\n",
       "    <tr>\n",
       "      <th>6</th>\n",
       "      <td>1981.0</td>\n",
       "      <td>1</td>\n",
       "      <td>NaN</td>\n",
       "      <td>NaN</td>\n",
       "    </tr>\n",
       "    <tr>\n",
       "      <th>7</th>\n",
       "      <td>1982.0</td>\n",
       "      <td>1</td>\n",
       "      <td>NaN</td>\n",
       "      <td>NaN</td>\n",
       "    </tr>\n",
       "    <tr>\n",
       "      <th>8</th>\n",
       "      <td>1985.0</td>\n",
       "      <td>1</td>\n",
       "      <td>NaN</td>\n",
       "      <td>NaN</td>\n",
       "    </tr>\n",
       "    <tr>\n",
       "      <th>9</th>\n",
       "      <td>1988.0</td>\n",
       "      <td>1</td>\n",
       "      <td>NaN</td>\n",
       "      <td>NaN</td>\n",
       "    </tr>\n",
       "    <tr>\n",
       "      <th>10</th>\n",
       "      <td>1993.0</td>\n",
       "      <td>2</td>\n",
       "      <td>NaN</td>\n",
       "      <td>NaN</td>\n",
       "    </tr>\n",
       "    <tr>\n",
       "      <th>11</th>\n",
       "      <td>1995.0</td>\n",
       "      <td>2</td>\n",
       "      <td>NaN</td>\n",
       "      <td>NaN</td>\n",
       "    </tr>\n",
       "    <tr>\n",
       "      <th>12</th>\n",
       "      <td>1998.0</td>\n",
       "      <td>2</td>\n",
       "      <td>NaN</td>\n",
       "      <td>NaN</td>\n",
       "    </tr>\n",
       "    <tr>\n",
       "      <th>13</th>\n",
       "      <td>1999.0</td>\n",
       "      <td>2</td>\n",
       "      <td>NaN</td>\n",
       "      <td>NaN</td>\n",
       "    </tr>\n",
       "    <tr>\n",
       "      <th>14</th>\n",
       "      <td>2000.0</td>\n",
       "      <td>3</td>\n",
       "      <td>NaN</td>\n",
       "      <td>NaN</td>\n",
       "    </tr>\n",
       "    <tr>\n",
       "      <th>15</th>\n",
       "      <td>2001.0</td>\n",
       "      <td>3</td>\n",
       "      <td>NaN</td>\n",
       "      <td>NaN</td>\n",
       "    </tr>\n",
       "    <tr>\n",
       "      <th>16</th>\n",
       "      <td>2003.0</td>\n",
       "      <td>1</td>\n",
       "      <td>NaN</td>\n",
       "      <td>NaN</td>\n",
       "    </tr>\n",
       "    <tr>\n",
       "      <th>17</th>\n",
       "      <td>2004.0</td>\n",
       "      <td>2</td>\n",
       "      <td>NaN</td>\n",
       "      <td>NaN</td>\n",
       "    </tr>\n",
       "    <tr>\n",
       "      <th>18</th>\n",
       "      <td>2006.0</td>\n",
       "      <td>1</td>\n",
       "      <td>NaN</td>\n",
       "      <td>NaN</td>\n",
       "    </tr>\n",
       "    <tr>\n",
       "      <th>19</th>\n",
       "      <td>2007.0</td>\n",
       "      <td>5</td>\n",
       "      <td>NaN</td>\n",
       "      <td>NaN</td>\n",
       "    </tr>\n",
       "    <tr>\n",
       "      <th>20</th>\n",
       "      <td>2008.0</td>\n",
       "      <td>5</td>\n",
       "      <td>NaN</td>\n",
       "      <td>NaN</td>\n",
       "    </tr>\n",
       "    <tr>\n",
       "      <th>21</th>\n",
       "      <td>2009.0</td>\n",
       "      <td>7</td>\n",
       "      <td>NaN</td>\n",
       "      <td>NaN</td>\n",
       "    </tr>\n",
       "    <tr>\n",
       "      <th>22</th>\n",
       "      <td>2010.0</td>\n",
       "      <td>3</td>\n",
       "      <td>NaN</td>\n",
       "      <td>NaN</td>\n",
       "    </tr>\n",
       "    <tr>\n",
       "      <th>23</th>\n",
       "      <td>2011.0</td>\n",
       "      <td>9</td>\n",
       "      <td>NaN</td>\n",
       "      <td>NaN</td>\n",
       "    </tr>\n",
       "    <tr>\n",
       "      <th>24</th>\n",
       "      <td>2012.0</td>\n",
       "      <td>10</td>\n",
       "      <td>NaN</td>\n",
       "      <td>NaN</td>\n",
       "    </tr>\n",
       "    <tr>\n",
       "      <th>25</th>\n",
       "      <td>2013.0</td>\n",
       "      <td>15</td>\n",
       "      <td>NaN</td>\n",
       "      <td>553998.0</td>\n",
       "    </tr>\n",
       "    <tr>\n",
       "      <th>26</th>\n",
       "      <td>2014.0</td>\n",
       "      <td>45304</td>\n",
       "      <td>38182.0</td>\n",
       "      <td>1073050.0</td>\n",
       "    </tr>\n",
       "    <tr>\n",
       "      <th>27</th>\n",
       "      <td>2015.0</td>\n",
       "      <td>48186</td>\n",
       "      <td>26509.0</td>\n",
       "      <td>1079493.0</td>\n",
       "    </tr>\n",
       "    <tr>\n",
       "      <th>28</th>\n",
       "      <td>2016.0</td>\n",
       "      <td>48772</td>\n",
       "      <td>23912.0</td>\n",
       "      <td>1052941.0</td>\n",
       "    </tr>\n",
       "    <tr>\n",
       "      <th>29</th>\n",
       "      <td>2017.0</td>\n",
       "      <td>52162</td>\n",
       "      <td>23741.0</td>\n",
       "      <td>1006292.0</td>\n",
       "    </tr>\n",
       "    <tr>\n",
       "      <th>30</th>\n",
       "      <td>2018.0</td>\n",
       "      <td>48445</td>\n",
       "      <td>21434.0</td>\n",
       "      <td>997079.0</td>\n",
       "    </tr>\n",
       "    <tr>\n",
       "      <th>31</th>\n",
       "      <td>2019.0</td>\n",
       "      <td>46078</td>\n",
       "      <td>19862.0</td>\n",
       "      <td>1442651.0</td>\n",
       "    </tr>\n",
       "    <tr>\n",
       "      <th>32</th>\n",
       "      <td>2020.0</td>\n",
       "      <td>6098</td>\n",
       "      <td>1821.0</td>\n",
       "      <td>269636.0</td>\n",
       "    </tr>\n",
       "  </tbody>\n",
       "</table>\n",
       "</div>"
      ],
      "text/plain": [
       "      year  CrimeCount  ArrestCount  CallCount\n",
       "0   1963.0           1          NaN        NaN\n",
       "1   1969.0           1          NaN        NaN\n",
       "2   1975.0           1          NaN        NaN\n",
       "3   1977.0           1          NaN        NaN\n",
       "4   1978.0           1          NaN        NaN\n",
       "5   1980.0           1          NaN        NaN\n",
       "6   1981.0           1          NaN        NaN\n",
       "7   1982.0           1          NaN        NaN\n",
       "8   1985.0           1          NaN        NaN\n",
       "9   1988.0           1          NaN        NaN\n",
       "10  1993.0           2          NaN        NaN\n",
       "11  1995.0           2          NaN        NaN\n",
       "12  1998.0           2          NaN        NaN\n",
       "13  1999.0           2          NaN        NaN\n",
       "14  2000.0           3          NaN        NaN\n",
       "15  2001.0           3          NaN        NaN\n",
       "16  2003.0           1          NaN        NaN\n",
       "17  2004.0           2          NaN        NaN\n",
       "18  2006.0           1          NaN        NaN\n",
       "19  2007.0           5          NaN        NaN\n",
       "20  2008.0           5          NaN        NaN\n",
       "21  2009.0           7          NaN        NaN\n",
       "22  2010.0           3          NaN        NaN\n",
       "23  2011.0           9          NaN        NaN\n",
       "24  2012.0          10          NaN        NaN\n",
       "25  2013.0          15          NaN   553998.0\n",
       "26  2014.0       45304      38182.0  1073050.0\n",
       "27  2015.0       48186      26509.0  1079493.0\n",
       "28  2016.0       48772      23912.0  1052941.0\n",
       "29  2017.0       52162      23741.0  1006292.0\n",
       "30  2018.0       48445      21434.0   997079.0\n",
       "31  2019.0       46078      19862.0  1442651.0\n",
       "32  2020.0        6098       1821.0   269636.0"
      ]
     },
     "execution_count": 170,
     "metadata": {},
     "output_type": "execute_result"
    }
   ],
   "source": [
    "# final dataset\n",
    "df_safety_merge"
   ]
  },
  {
   "cell_type": "markdown",
   "metadata": {},
   "source": [
    "Since we only have useable data for 2014-2019, we'll filter our merged dataframe to only include those rows    "
   ]
  },
  {
   "cell_type": "code",
   "execution_count": 171,
   "metadata": {},
   "outputs": [],
   "source": [
    "# filter dataframe based on values in the year column\n",
    "\n",
    "df_safety_merge = df_safety_merge[(df_safety_merge[\"year\"] >= 2014)  & (df_safety_merge[\"year\"] <= 2019)]"
   ]
  },
  {
   "cell_type": "code",
   "execution_count": 172,
   "metadata": {},
   "outputs": [
    {
     "data": {
      "text/html": [
       "<div>\n",
       "<style scoped>\n",
       "    .dataframe tbody tr th:only-of-type {\n",
       "        vertical-align: middle;\n",
       "    }\n",
       "\n",
       "    .dataframe tbody tr th {\n",
       "        vertical-align: top;\n",
       "    }\n",
       "\n",
       "    .dataframe thead th {\n",
       "        text-align: right;\n",
       "    }\n",
       "</style>\n",
       "<table border=\"1\" class=\"dataframe\">\n",
       "  <thead>\n",
       "    <tr style=\"text-align: right;\">\n",
       "      <th></th>\n",
       "      <th>year</th>\n",
       "      <th>CrimeCount</th>\n",
       "      <th>ArrestCount</th>\n",
       "      <th>CallCount</th>\n",
       "    </tr>\n",
       "  </thead>\n",
       "  <tbody>\n",
       "    <tr>\n",
       "      <th>26</th>\n",
       "      <td>2014.0</td>\n",
       "      <td>45304</td>\n",
       "      <td>38182.0</td>\n",
       "      <td>1073050.0</td>\n",
       "    </tr>\n",
       "    <tr>\n",
       "      <th>27</th>\n",
       "      <td>2015.0</td>\n",
       "      <td>48186</td>\n",
       "      <td>26509.0</td>\n",
       "      <td>1079493.0</td>\n",
       "    </tr>\n",
       "    <tr>\n",
       "      <th>28</th>\n",
       "      <td>2016.0</td>\n",
       "      <td>48772</td>\n",
       "      <td>23912.0</td>\n",
       "      <td>1052941.0</td>\n",
       "    </tr>\n",
       "    <tr>\n",
       "      <th>29</th>\n",
       "      <td>2017.0</td>\n",
       "      <td>52162</td>\n",
       "      <td>23741.0</td>\n",
       "      <td>1006292.0</td>\n",
       "    </tr>\n",
       "    <tr>\n",
       "      <th>30</th>\n",
       "      <td>2018.0</td>\n",
       "      <td>48445</td>\n",
       "      <td>21434.0</td>\n",
       "      <td>997079.0</td>\n",
       "    </tr>\n",
       "    <tr>\n",
       "      <th>31</th>\n",
       "      <td>2019.0</td>\n",
       "      <td>46078</td>\n",
       "      <td>19862.0</td>\n",
       "      <td>1442651.0</td>\n",
       "    </tr>\n",
       "  </tbody>\n",
       "</table>\n",
       "</div>"
      ],
      "text/plain": [
       "      year  CrimeCount  ArrestCount  CallCount\n",
       "26  2014.0       45304      38182.0  1073050.0\n",
       "27  2015.0       48186      26509.0  1079493.0\n",
       "28  2016.0       48772      23912.0  1052941.0\n",
       "29  2017.0       52162      23741.0  1006292.0\n",
       "30  2018.0       48445      21434.0   997079.0\n",
       "31  2019.0       46078      19862.0  1442651.0"
      ]
     },
     "execution_count": 172,
     "metadata": {},
     "output_type": "execute_result"
    }
   ],
   "source": [
    "#preview data\n",
    "df_safety_merge"
   ]
  },
  {
   "cell_type": "markdown",
   "metadata": {},
   "source": [
    "Let's make a line plot to look at the changes of all of these over time. Since our data isn't formatted how we need it (all x values in one column and all y values in another column), we'll need to use the pandas `melt` function to rearrange our data in a format that works with plotly express."
   ]
  },
  {
   "cell_type": "code",
   "execution_count": 173,
   "metadata": {},
   "outputs": [],
   "source": [
    "# make a new \"melted dataframe\"\n",
    "df_safety_melt = df_safety_merge.melt(id_vars = \"year\", value_vars =[\"CrimeCount\", \"ArrestCount\", \"CallCount\"])"
   ]
  },
  {
   "cell_type": "code",
   "execution_count": 175,
   "metadata": {},
   "outputs": [
    {
     "data": {
      "text/html": [
       "<div>\n",
       "<style scoped>\n",
       "    .dataframe tbody tr th:only-of-type {\n",
       "        vertical-align: middle;\n",
       "    }\n",
       "\n",
       "    .dataframe tbody tr th {\n",
       "        vertical-align: top;\n",
       "    }\n",
       "\n",
       "    .dataframe thead th {\n",
       "        text-align: right;\n",
       "    }\n",
       "</style>\n",
       "<table border=\"1\" class=\"dataframe\">\n",
       "  <thead>\n",
       "    <tr style=\"text-align: right;\">\n",
       "      <th></th>\n",
       "      <th>year</th>\n",
       "      <th>variable</th>\n",
       "      <th>value</th>\n",
       "    </tr>\n",
       "  </thead>\n",
       "  <tbody>\n",
       "    <tr>\n",
       "      <th>0</th>\n",
       "      <td>2014.0</td>\n",
       "      <td>CrimeCount</td>\n",
       "      <td>45304.0</td>\n",
       "    </tr>\n",
       "    <tr>\n",
       "      <th>1</th>\n",
       "      <td>2015.0</td>\n",
       "      <td>CrimeCount</td>\n",
       "      <td>48186.0</td>\n",
       "    </tr>\n",
       "    <tr>\n",
       "      <th>2</th>\n",
       "      <td>2016.0</td>\n",
       "      <td>CrimeCount</td>\n",
       "      <td>48772.0</td>\n",
       "    </tr>\n",
       "    <tr>\n",
       "      <th>3</th>\n",
       "      <td>2017.0</td>\n",
       "      <td>CrimeCount</td>\n",
       "      <td>52162.0</td>\n",
       "    </tr>\n",
       "    <tr>\n",
       "      <th>4</th>\n",
       "      <td>2018.0</td>\n",
       "      <td>CrimeCount</td>\n",
       "      <td>48445.0</td>\n",
       "    </tr>\n",
       "  </tbody>\n",
       "</table>\n",
       "</div>"
      ],
      "text/plain": [
       "     year    variable    value\n",
       "0  2014.0  CrimeCount  45304.0\n",
       "1  2015.0  CrimeCount  48186.0\n",
       "2  2016.0  CrimeCount  48772.0\n",
       "3  2017.0  CrimeCount  52162.0\n",
       "4  2018.0  CrimeCount  48445.0"
      ]
     },
     "execution_count": 175,
     "metadata": {},
     "output_type": "execute_result"
    }
   ],
   "source": [
    "# preview melted dataframe\n",
    "df_safety_melt.head()"
   ]
  },
  {
   "cell_type": "code",
   "execution_count": 176,
   "metadata": {},
   "outputs": [],
   "source": [
    "# now use this data to make aa line graph of changes over time\n",
    "line_bmore_safety = px.line(df_safety_melt,\n",
    "                           x = \"year\",\n",
    "                           y =\"value\",\n",
    "                           color = \"variable\",\n",
    "                           title = \"Count of Crime, Arrests, and 911 Calls in Baltimore from 2014-2019\",\n",
    "                           labels = {\"year\":\"Year\", \"value\":\"Count\"})"
   ]
  },
  {
   "cell_type": "code",
   "execution_count": 177,
   "metadata": {},
   "outputs": [
    {
     "data": {
      "application/vnd.plotly.v1+json": {
       "config": {
        "plotlyServerURL": "http://type-here.com"
       },
       "data": [
        {
         "hoverlabel": {
          "namelength": 0
         },
         "hovertemplate": "variable=CrimeCount<br>Year=%{x}<br>Count=%{y}",
         "legendgroup": "CrimeCount",
         "line": {
          "color": "#636efa",
          "dash": "solid"
         },
         "mode": "lines",
         "name": "CrimeCount",
         "showlegend": true,
         "type": "scatter",
         "x": [
          2014,
          2015,
          2016,
          2017,
          2018,
          2019
         ],
         "xaxis": "x",
         "y": [
          45304,
          48186,
          48772,
          52162,
          48445,
          46078
         ],
         "yaxis": "y"
        },
        {
         "hoverlabel": {
          "namelength": 0
         },
         "hovertemplate": "variable=ArrestCount<br>Year=%{x}<br>Count=%{y}",
         "legendgroup": "ArrestCount",
         "line": {
          "color": "#EF553B",
          "dash": "solid"
         },
         "mode": "lines",
         "name": "ArrestCount",
         "showlegend": true,
         "type": "scatter",
         "x": [
          2014,
          2015,
          2016,
          2017,
          2018,
          2019
         ],
         "xaxis": "x",
         "y": [
          38182,
          26509,
          23912,
          23741,
          21434,
          19862
         ],
         "yaxis": "y"
        },
        {
         "hoverlabel": {
          "namelength": 0
         },
         "hovertemplate": "variable=CallCount<br>Year=%{x}<br>Count=%{y}",
         "legendgroup": "CallCount",
         "line": {
          "color": "#00cc96",
          "dash": "solid"
         },
         "mode": "lines",
         "name": "CallCount",
         "showlegend": true,
         "type": "scatter",
         "visible": true,
         "x": [
          2014,
          2015,
          2016,
          2017,
          2018,
          2019
         ],
         "xaxis": "x",
         "y": [
          1073050,
          1079493,
          1052941,
          1006292,
          997079,
          1442651
         ],
         "yaxis": "y"
        }
       ],
       "layout": {
        "autosize": true,
        "legend": {
         "title": {
          "text": "variable"
         },
         "tracegroupgap": 0
        },
        "template": {
         "data": {
          "bar": [
           {
            "error_x": {
             "color": "#2a3f5f"
            },
            "error_y": {
             "color": "#2a3f5f"
            },
            "marker": {
             "line": {
              "color": "#E5ECF6",
              "width": 0.5
             }
            },
            "type": "bar"
           }
          ],
          "barpolar": [
           {
            "marker": {
             "line": {
              "color": "#E5ECF6",
              "width": 0.5
             }
            },
            "type": "barpolar"
           }
          ],
          "carpet": [
           {
            "aaxis": {
             "endlinecolor": "#2a3f5f",
             "gridcolor": "white",
             "linecolor": "white",
             "minorgridcolor": "white",
             "startlinecolor": "#2a3f5f"
            },
            "baxis": {
             "endlinecolor": "#2a3f5f",
             "gridcolor": "white",
             "linecolor": "white",
             "minorgridcolor": "white",
             "startlinecolor": "#2a3f5f"
            },
            "type": "carpet"
           }
          ],
          "choropleth": [
           {
            "colorbar": {
             "outlinewidth": 0,
             "ticks": ""
            },
            "type": "choropleth"
           }
          ],
          "contour": [
           {
            "colorbar": {
             "outlinewidth": 0,
             "ticks": ""
            },
            "colorscale": [
             [
              0,
              "#0d0887"
             ],
             [
              0.1111111111111111,
              "#46039f"
             ],
             [
              0.2222222222222222,
              "#7201a8"
             ],
             [
              0.3333333333333333,
              "#9c179e"
             ],
             [
              0.4444444444444444,
              "#bd3786"
             ],
             [
              0.5555555555555556,
              "#d8576b"
             ],
             [
              0.6666666666666666,
              "#ed7953"
             ],
             [
              0.7777777777777778,
              "#fb9f3a"
             ],
             [
              0.8888888888888888,
              "#fdca26"
             ],
             [
              1,
              "#f0f921"
             ]
            ],
            "type": "contour"
           }
          ],
          "contourcarpet": [
           {
            "colorbar": {
             "outlinewidth": 0,
             "ticks": ""
            },
            "type": "contourcarpet"
           }
          ],
          "heatmap": [
           {
            "colorbar": {
             "outlinewidth": 0,
             "ticks": ""
            },
            "colorscale": [
             [
              0,
              "#0d0887"
             ],
             [
              0.1111111111111111,
              "#46039f"
             ],
             [
              0.2222222222222222,
              "#7201a8"
             ],
             [
              0.3333333333333333,
              "#9c179e"
             ],
             [
              0.4444444444444444,
              "#bd3786"
             ],
             [
              0.5555555555555556,
              "#d8576b"
             ],
             [
              0.6666666666666666,
              "#ed7953"
             ],
             [
              0.7777777777777778,
              "#fb9f3a"
             ],
             [
              0.8888888888888888,
              "#fdca26"
             ],
             [
              1,
              "#f0f921"
             ]
            ],
            "type": "heatmap"
           }
          ],
          "heatmapgl": [
           {
            "colorbar": {
             "outlinewidth": 0,
             "ticks": ""
            },
            "colorscale": [
             [
              0,
              "#0d0887"
             ],
             [
              0.1111111111111111,
              "#46039f"
             ],
             [
              0.2222222222222222,
              "#7201a8"
             ],
             [
              0.3333333333333333,
              "#9c179e"
             ],
             [
              0.4444444444444444,
              "#bd3786"
             ],
             [
              0.5555555555555556,
              "#d8576b"
             ],
             [
              0.6666666666666666,
              "#ed7953"
             ],
             [
              0.7777777777777778,
              "#fb9f3a"
             ],
             [
              0.8888888888888888,
              "#fdca26"
             ],
             [
              1,
              "#f0f921"
             ]
            ],
            "type": "heatmapgl"
           }
          ],
          "histogram": [
           {
            "marker": {
             "colorbar": {
              "outlinewidth": 0,
              "ticks": ""
             }
            },
            "type": "histogram"
           }
          ],
          "histogram2d": [
           {
            "colorbar": {
             "outlinewidth": 0,
             "ticks": ""
            },
            "colorscale": [
             [
              0,
              "#0d0887"
             ],
             [
              0.1111111111111111,
              "#46039f"
             ],
             [
              0.2222222222222222,
              "#7201a8"
             ],
             [
              0.3333333333333333,
              "#9c179e"
             ],
             [
              0.4444444444444444,
              "#bd3786"
             ],
             [
              0.5555555555555556,
              "#d8576b"
             ],
             [
              0.6666666666666666,
              "#ed7953"
             ],
             [
              0.7777777777777778,
              "#fb9f3a"
             ],
             [
              0.8888888888888888,
              "#fdca26"
             ],
             [
              1,
              "#f0f921"
             ]
            ],
            "type": "histogram2d"
           }
          ],
          "histogram2dcontour": [
           {
            "colorbar": {
             "outlinewidth": 0,
             "ticks": ""
            },
            "colorscale": [
             [
              0,
              "#0d0887"
             ],
             [
              0.1111111111111111,
              "#46039f"
             ],
             [
              0.2222222222222222,
              "#7201a8"
             ],
             [
              0.3333333333333333,
              "#9c179e"
             ],
             [
              0.4444444444444444,
              "#bd3786"
             ],
             [
              0.5555555555555556,
              "#d8576b"
             ],
             [
              0.6666666666666666,
              "#ed7953"
             ],
             [
              0.7777777777777778,
              "#fb9f3a"
             ],
             [
              0.8888888888888888,
              "#fdca26"
             ],
             [
              1,
              "#f0f921"
             ]
            ],
            "type": "histogram2dcontour"
           }
          ],
          "mesh3d": [
           {
            "colorbar": {
             "outlinewidth": 0,
             "ticks": ""
            },
            "type": "mesh3d"
           }
          ],
          "parcoords": [
           {
            "line": {
             "colorbar": {
              "outlinewidth": 0,
              "ticks": ""
             }
            },
            "type": "parcoords"
           }
          ],
          "pie": [
           {
            "automargin": true,
            "type": "pie"
           }
          ],
          "scatter": [
           {
            "marker": {
             "colorbar": {
              "outlinewidth": 0,
              "ticks": ""
             }
            },
            "type": "scatter"
           }
          ],
          "scatter3d": [
           {
            "line": {
             "colorbar": {
              "outlinewidth": 0,
              "ticks": ""
             }
            },
            "marker": {
             "colorbar": {
              "outlinewidth": 0,
              "ticks": ""
             }
            },
            "type": "scatter3d"
           }
          ],
          "scattercarpet": [
           {
            "marker": {
             "colorbar": {
              "outlinewidth": 0,
              "ticks": ""
             }
            },
            "type": "scattercarpet"
           }
          ],
          "scattergeo": [
           {
            "marker": {
             "colorbar": {
              "outlinewidth": 0,
              "ticks": ""
             }
            },
            "type": "scattergeo"
           }
          ],
          "scattergl": [
           {
            "marker": {
             "colorbar": {
              "outlinewidth": 0,
              "ticks": ""
             }
            },
            "type": "scattergl"
           }
          ],
          "scattermapbox": [
           {
            "marker": {
             "colorbar": {
              "outlinewidth": 0,
              "ticks": ""
             }
            },
            "type": "scattermapbox"
           }
          ],
          "scatterpolar": [
           {
            "marker": {
             "colorbar": {
              "outlinewidth": 0,
              "ticks": ""
             }
            },
            "type": "scatterpolar"
           }
          ],
          "scatterpolargl": [
           {
            "marker": {
             "colorbar": {
              "outlinewidth": 0,
              "ticks": ""
             }
            },
            "type": "scatterpolargl"
           }
          ],
          "scatterternary": [
           {
            "marker": {
             "colorbar": {
              "outlinewidth": 0,
              "ticks": ""
             }
            },
            "type": "scatterternary"
           }
          ],
          "surface": [
           {
            "colorbar": {
             "outlinewidth": 0,
             "ticks": ""
            },
            "colorscale": [
             [
              0,
              "#0d0887"
             ],
             [
              0.1111111111111111,
              "#46039f"
             ],
             [
              0.2222222222222222,
              "#7201a8"
             ],
             [
              0.3333333333333333,
              "#9c179e"
             ],
             [
              0.4444444444444444,
              "#bd3786"
             ],
             [
              0.5555555555555556,
              "#d8576b"
             ],
             [
              0.6666666666666666,
              "#ed7953"
             ],
             [
              0.7777777777777778,
              "#fb9f3a"
             ],
             [
              0.8888888888888888,
              "#fdca26"
             ],
             [
              1,
              "#f0f921"
             ]
            ],
            "type": "surface"
           }
          ],
          "table": [
           {
            "cells": {
             "fill": {
              "color": "#EBF0F8"
             },
             "line": {
              "color": "white"
             }
            },
            "header": {
             "fill": {
              "color": "#C8D4E3"
             },
             "line": {
              "color": "white"
             }
            },
            "type": "table"
           }
          ]
         },
         "layout": {
          "annotationdefaults": {
           "arrowcolor": "#2a3f5f",
           "arrowhead": 0,
           "arrowwidth": 1
          },
          "coloraxis": {
           "colorbar": {
            "outlinewidth": 0,
            "ticks": ""
           }
          },
          "colorscale": {
           "diverging": [
            [
             0,
             "#8e0152"
            ],
            [
             0.1,
             "#c51b7d"
            ],
            [
             0.2,
             "#de77ae"
            ],
            [
             0.3,
             "#f1b6da"
            ],
            [
             0.4,
             "#fde0ef"
            ],
            [
             0.5,
             "#f7f7f7"
            ],
            [
             0.6,
             "#e6f5d0"
            ],
            [
             0.7,
             "#b8e186"
            ],
            [
             0.8,
             "#7fbc41"
            ],
            [
             0.9,
             "#4d9221"
            ],
            [
             1,
             "#276419"
            ]
           ],
           "sequential": [
            [
             0,
             "#0d0887"
            ],
            [
             0.1111111111111111,
             "#46039f"
            ],
            [
             0.2222222222222222,
             "#7201a8"
            ],
            [
             0.3333333333333333,
             "#9c179e"
            ],
            [
             0.4444444444444444,
             "#bd3786"
            ],
            [
             0.5555555555555556,
             "#d8576b"
            ],
            [
             0.6666666666666666,
             "#ed7953"
            ],
            [
             0.7777777777777778,
             "#fb9f3a"
            ],
            [
             0.8888888888888888,
             "#fdca26"
            ],
            [
             1,
             "#f0f921"
            ]
           ],
           "sequentialminus": [
            [
             0,
             "#0d0887"
            ],
            [
             0.1111111111111111,
             "#46039f"
            ],
            [
             0.2222222222222222,
             "#7201a8"
            ],
            [
             0.3333333333333333,
             "#9c179e"
            ],
            [
             0.4444444444444444,
             "#bd3786"
            ],
            [
             0.5555555555555556,
             "#d8576b"
            ],
            [
             0.6666666666666666,
             "#ed7953"
            ],
            [
             0.7777777777777778,
             "#fb9f3a"
            ],
            [
             0.8888888888888888,
             "#fdca26"
            ],
            [
             1,
             "#f0f921"
            ]
           ]
          },
          "colorway": [
           "#636efa",
           "#EF553B",
           "#00cc96",
           "#ab63fa",
           "#FFA15A",
           "#19d3f3",
           "#FF6692",
           "#B6E880",
           "#FF97FF",
           "#FECB52"
          ],
          "font": {
           "color": "#2a3f5f"
          },
          "geo": {
           "bgcolor": "white",
           "lakecolor": "white",
           "landcolor": "#E5ECF6",
           "showlakes": true,
           "showland": true,
           "subunitcolor": "white"
          },
          "hoverlabel": {
           "align": "left"
          },
          "hovermode": "closest",
          "mapbox": {
           "style": "light"
          },
          "paper_bgcolor": "white",
          "plot_bgcolor": "#E5ECF6",
          "polar": {
           "angularaxis": {
            "gridcolor": "white",
            "linecolor": "white",
            "ticks": ""
           },
           "bgcolor": "#E5ECF6",
           "radialaxis": {
            "gridcolor": "white",
            "linecolor": "white",
            "ticks": ""
           }
          },
          "scene": {
           "xaxis": {
            "backgroundcolor": "#E5ECF6",
            "gridcolor": "white",
            "gridwidth": 2,
            "linecolor": "white",
            "showbackground": true,
            "ticks": "",
            "zerolinecolor": "white"
           },
           "yaxis": {
            "backgroundcolor": "#E5ECF6",
            "gridcolor": "white",
            "gridwidth": 2,
            "linecolor": "white",
            "showbackground": true,
            "ticks": "",
            "zerolinecolor": "white"
           },
           "zaxis": {
            "backgroundcolor": "#E5ECF6",
            "gridcolor": "white",
            "gridwidth": 2,
            "linecolor": "white",
            "showbackground": true,
            "ticks": "",
            "zerolinecolor": "white"
           }
          },
          "shapedefaults": {
           "line": {
            "color": "#2a3f5f"
           }
          },
          "ternary": {
           "aaxis": {
            "gridcolor": "white",
            "linecolor": "white",
            "ticks": ""
           },
           "baxis": {
            "gridcolor": "white",
            "linecolor": "white",
            "ticks": ""
           },
           "bgcolor": "#E5ECF6",
           "caxis": {
            "gridcolor": "white",
            "linecolor": "white",
            "ticks": ""
           }
          },
          "title": {
           "x": 0.05
          },
          "xaxis": {
           "automargin": true,
           "gridcolor": "white",
           "linecolor": "white",
           "ticks": "",
           "title": {
            "standoff": 15
           },
           "zerolinecolor": "white",
           "zerolinewidth": 2
          },
          "yaxis": {
           "automargin": true,
           "gridcolor": "white",
           "linecolor": "white",
           "ticks": "",
           "title": {
            "standoff": 15
           },
           "zerolinecolor": "white",
           "zerolinewidth": 2
          }
         }
        },
        "title": {
         "text": "Count of Crime, Arrests, and 911 Calls in Baltimore from 2014-2019"
        },
        "xaxis": {
         "anchor": "y",
         "autorange": true,
         "domain": [
          0,
          1
         ],
         "range": [
          2014,
          2019
         ],
         "title": {
          "text": "Year"
         },
         "type": "linear"
        },
        "yaxis": {
         "anchor": "x",
         "autorange": true,
         "domain": [
          0,
          1
         ],
         "range": [
          -59181.83333333333,
          1521694.8333333333
         ],
         "title": {
          "text": "Count"
         },
         "type": "linear"
        }
       }
      },
      "image/png": "[encoded data removed]",
      "text/html": [
       "<div>\n",
       "        \n",
       "        \n",
       "            <div id=\"69a56a79-01e7-4c8a-a080-8dbecbfa40ea\" class=\"plotly-graph-div\" style=\"height:525px; width:100%;\"></div>\n",
       "            <script type=\"text/javascript\">\n",
       "                require([\"plotly\"], function(Plotly) {\n",
       "                    window.PLOTLYENV=window.PLOTLYENV || {};\n",
       "                    \n",
       "                if (document.getElementById(\"69a56a79-01e7-4c8a-a080-8dbecbfa40ea\")) {\n",
       "                    Plotly.newPlot(\n",
       "                        '69a56a79-01e7-4c8a-a080-8dbecbfa40ea',\n",
       "                        [{\"hoverlabel\": {\"namelength\": 0}, \"hovertemplate\": \"variable=CrimeCount<br>Year=%{x}<br>Count=%{y}\", \"legendgroup\": \"CrimeCount\", \"line\": {\"color\": \"#636efa\", \"dash\": \"solid\"}, \"mode\": \"lines\", \"name\": \"CrimeCount\", \"showlegend\": true, \"type\": \"scatter\", \"x\": [2014.0, 2015.0, 2016.0, 2017.0, 2018.0, 2019.0], \"xaxis\": \"x\", \"y\": [45304.0, 48186.0, 48772.0, 52162.0, 48445.0, 46078.0], \"yaxis\": \"y\"}, {\"hoverlabel\": {\"namelength\": 0}, \"hovertemplate\": \"variable=ArrestCount<br>Year=%{x}<br>Count=%{y}\", \"legendgroup\": \"ArrestCount\", \"line\": {\"color\": \"#EF553B\", \"dash\": \"solid\"}, \"mode\": \"lines\", \"name\": \"ArrestCount\", \"showlegend\": true, \"type\": \"scatter\", \"x\": [2014.0, 2015.0, 2016.0, 2017.0, 2018.0, 2019.0], \"xaxis\": \"x\", \"y\": [38182.0, 26509.0, 23912.0, 23741.0, 21434.0, 19862.0], \"yaxis\": \"y\"}, {\"hoverlabel\": {\"namelength\": 0}, \"hovertemplate\": \"variable=CallCount<br>Year=%{x}<br>Count=%{y}\", \"legendgroup\": \"CallCount\", \"line\": {\"color\": \"#00cc96\", \"dash\": \"solid\"}, \"mode\": \"lines\", \"name\": \"CallCount\", \"showlegend\": true, \"type\": \"scatter\", \"x\": [2014.0, 2015.0, 2016.0, 2017.0, 2018.0, 2019.0], \"xaxis\": \"x\", \"y\": [1073050.0, 1079493.0, 1052941.0, 1006292.0, 997079.0, 1442651.0], \"yaxis\": \"y\"}],\n",
       "                        {\"legend\": {\"title\": {\"text\": \"variable\"}, \"tracegroupgap\": 0}, \"template\": {\"data\": {\"bar\": [{\"error_x\": {\"color\": \"#2a3f5f\"}, \"error_y\": {\"color\": \"#2a3f5f\"}, \"marker\": {\"line\": {\"color\": \"#E5ECF6\", \"width\": 0.5}}, \"type\": \"bar\"}], \"barpolar\": [{\"marker\": {\"line\": {\"color\": \"#E5ECF6\", \"width\": 0.5}}, \"type\": \"barpolar\"}], \"carpet\": [{\"aaxis\": {\"endlinecolor\": \"#2a3f5f\", \"gridcolor\": \"white\", \"linecolor\": \"white\", \"minorgridcolor\": \"white\", \"startlinecolor\": \"#2a3f5f\"}, \"baxis\": {\"endlinecolor\": \"#2a3f5f\", \"gridcolor\": \"white\", \"linecolor\": \"white\", \"minorgridcolor\": \"white\", \"startlinecolor\": \"#2a3f5f\"}, \"type\": \"carpet\"}], \"choropleth\": [{\"colorbar\": {\"outlinewidth\": 0, \"ticks\": \"\"}, \"type\": \"choropleth\"}], \"contour\": [{\"colorbar\": {\"outlinewidth\": 0, \"ticks\": \"\"}, \"colorscale\": [[0.0, \"#0d0887\"], [0.1111111111111111, \"#46039f\"], [0.2222222222222222, \"#7201a8\"], [0.3333333333333333, \"#9c179e\"], [0.4444444444444444, \"#bd3786\"], [0.5555555555555556, \"#d8576b\"], [0.6666666666666666, \"#ed7953\"], [0.7777777777777778, \"#fb9f3a\"], [0.8888888888888888, \"#fdca26\"], [1.0, \"#f0f921\"]], \"type\": \"contour\"}], \"contourcarpet\": [{\"colorbar\": {\"outlinewidth\": 0, \"ticks\": \"\"}, \"type\": \"contourcarpet\"}], \"heatmap\": [{\"colorbar\": {\"outlinewidth\": 0, \"ticks\": \"\"}, \"colorscale\": [[0.0, \"#0d0887\"], [0.1111111111111111, \"#46039f\"], [0.2222222222222222, \"#7201a8\"], [0.3333333333333333, \"#9c179e\"], [0.4444444444444444, \"#bd3786\"], [0.5555555555555556, \"#d8576b\"], [0.6666666666666666, \"#ed7953\"], [0.7777777777777778, \"#fb9f3a\"], [0.8888888888888888, \"#fdca26\"], [1.0, \"#f0f921\"]], \"type\": \"heatmap\"}], \"heatmapgl\": [{\"colorbar\": {\"outlinewidth\": 0, \"ticks\": \"\"}, \"colorscale\": [[0.0, \"#0d0887\"], [0.1111111111111111, \"#46039f\"], [0.2222222222222222, \"#7201a8\"], [0.3333333333333333, \"#9c179e\"], [0.4444444444444444, \"#bd3786\"], [0.5555555555555556, \"#d8576b\"], [0.6666666666666666, \"#ed7953\"], [0.7777777777777778, \"#fb9f3a\"], [0.8888888888888888, \"#fdca26\"], [1.0, \"#f0f921\"]], \"type\": \"heatmapgl\"}], \"histogram\": [{\"marker\": {\"colorbar\": {\"outlinewidth\": 0, \"ticks\": \"\"}}, \"type\": \"histogram\"}], \"histogram2d\": [{\"colorbar\": {\"outlinewidth\": 0, \"ticks\": \"\"}, \"colorscale\": [[0.0, \"#0d0887\"], [0.1111111111111111, \"#46039f\"], [0.2222222222222222, \"#7201a8\"], [0.3333333333333333, \"#9c179e\"], [0.4444444444444444, \"#bd3786\"], [0.5555555555555556, \"#d8576b\"], [0.6666666666666666, \"#ed7953\"], [0.7777777777777778, \"#fb9f3a\"], [0.8888888888888888, \"#fdca26\"], [1.0, \"#f0f921\"]], \"type\": \"histogram2d\"}], \"histogram2dcontour\": [{\"colorbar\": {\"outlinewidth\": 0, \"ticks\": \"\"}, \"colorscale\": [[0.0, \"#0d0887\"], [0.1111111111111111, \"#46039f\"], [0.2222222222222222, \"#7201a8\"], [0.3333333333333333, \"#9c179e\"], [0.4444444444444444, \"#bd3786\"], [0.5555555555555556, \"#d8576b\"], [0.6666666666666666, \"#ed7953\"], [0.7777777777777778, \"#fb9f3a\"], [0.8888888888888888, \"#fdca26\"], [1.0, \"#f0f921\"]], \"type\": \"histogram2dcontour\"}], \"mesh3d\": [{\"colorbar\": {\"outlinewidth\": 0, \"ticks\": \"\"}, \"type\": \"mesh3d\"}], \"parcoords\": [{\"line\": {\"colorbar\": {\"outlinewidth\": 0, \"ticks\": \"\"}}, \"type\": \"parcoords\"}], \"pie\": [{\"automargin\": true, \"type\": \"pie\"}], \"scatter\": [{\"marker\": {\"colorbar\": {\"outlinewidth\": 0, \"ticks\": \"\"}}, \"type\": \"scatter\"}], \"scatter3d\": [{\"line\": {\"colorbar\": {\"outlinewidth\": 0, \"ticks\": \"\"}}, \"marker\": {\"colorbar\": {\"outlinewidth\": 0, \"ticks\": \"\"}}, \"type\": \"scatter3d\"}], \"scattercarpet\": [{\"marker\": {\"colorbar\": {\"outlinewidth\": 0, \"ticks\": \"\"}}, \"type\": \"scattercarpet\"}], \"scattergeo\": [{\"marker\": {\"colorbar\": {\"outlinewidth\": 0, \"ticks\": \"\"}}, \"type\": \"scattergeo\"}], \"scattergl\": [{\"marker\": {\"colorbar\": {\"outlinewidth\": 0, \"ticks\": \"\"}}, \"type\": \"scattergl\"}], \"scattermapbox\": [{\"marker\": {\"colorbar\": {\"outlinewidth\": 0, \"ticks\": \"\"}}, \"type\": \"scattermapbox\"}], \"scatterpolar\": [{\"marker\": {\"colorbar\": {\"outlinewidth\": 0, \"ticks\": \"\"}}, \"type\": \"scatterpolar\"}], \"scatterpolargl\": [{\"marker\": {\"colorbar\": {\"outlinewidth\": 0, \"ticks\": \"\"}}, \"type\": \"scatterpolargl\"}], \"scatterternary\": [{\"marker\": {\"colorbar\": {\"outlinewidth\": 0, \"ticks\": \"\"}}, \"type\": \"scatterternary\"}], \"surface\": [{\"colorbar\": {\"outlinewidth\": 0, \"ticks\": \"\"}, \"colorscale\": [[0.0, \"#0d0887\"], [0.1111111111111111, \"#46039f\"], [0.2222222222222222, \"#7201a8\"], [0.3333333333333333, \"#9c179e\"], [0.4444444444444444, \"#bd3786\"], [0.5555555555555556, \"#d8576b\"], [0.6666666666666666, \"#ed7953\"], [0.7777777777777778, \"#fb9f3a\"], [0.8888888888888888, \"#fdca26\"], [1.0, \"#f0f921\"]], \"type\": \"surface\"}], \"table\": [{\"cells\": {\"fill\": {\"color\": \"#EBF0F8\"}, \"line\": {\"color\": \"white\"}}, \"header\": {\"fill\": {\"color\": \"#C8D4E3\"}, \"line\": {\"color\": \"white\"}}, \"type\": \"table\"}]}, \"layout\": {\"annotationdefaults\": {\"arrowcolor\": \"#2a3f5f\", \"arrowhead\": 0, \"arrowwidth\": 1}, \"coloraxis\": {\"colorbar\": {\"outlinewidth\": 0, \"ticks\": \"\"}}, \"colorscale\": {\"diverging\": [[0, \"#8e0152\"], [0.1, \"#c51b7d\"], [0.2, \"#de77ae\"], [0.3, \"#f1b6da\"], [0.4, \"#fde0ef\"], [0.5, \"#f7f7f7\"], [0.6, \"#e6f5d0\"], [0.7, \"#b8e186\"], [0.8, \"#7fbc41\"], [0.9, \"#4d9221\"], [1, \"#276419\"]], \"sequential\": [[0.0, \"#0d0887\"], [0.1111111111111111, \"#46039f\"], [0.2222222222222222, \"#7201a8\"], [0.3333333333333333, \"#9c179e\"], [0.4444444444444444, \"#bd3786\"], [0.5555555555555556, \"#d8576b\"], [0.6666666666666666, \"#ed7953\"], [0.7777777777777778, \"#fb9f3a\"], [0.8888888888888888, \"#fdca26\"], [1.0, \"#f0f921\"]], \"sequentialminus\": [[0.0, \"#0d0887\"], [0.1111111111111111, \"#46039f\"], [0.2222222222222222, \"#7201a8\"], [0.3333333333333333, \"#9c179e\"], [0.4444444444444444, \"#bd3786\"], [0.5555555555555556, \"#d8576b\"], [0.6666666666666666, \"#ed7953\"], [0.7777777777777778, \"#fb9f3a\"], [0.8888888888888888, \"#fdca26\"], [1.0, \"#f0f921\"]]}, \"colorway\": [\"#636efa\", \"#EF553B\", \"#00cc96\", \"#ab63fa\", \"#FFA15A\", \"#19d3f3\", \"#FF6692\", \"#B6E880\", \"#FF97FF\", \"#FECB52\"], \"font\": {\"color\": \"#2a3f5f\"}, \"geo\": {\"bgcolor\": \"white\", \"lakecolor\": \"white\", \"landcolor\": \"#E5ECF6\", \"showlakes\": true, \"showland\": true, \"subunitcolor\": \"white\"}, \"hoverlabel\": {\"align\": \"left\"}, \"hovermode\": \"closest\", \"mapbox\": {\"style\": \"light\"}, \"paper_bgcolor\": \"white\", \"plot_bgcolor\": \"#E5ECF6\", \"polar\": {\"angularaxis\": {\"gridcolor\": \"white\", \"linecolor\": \"white\", \"ticks\": \"\"}, \"bgcolor\": \"#E5ECF6\", \"radialaxis\": {\"gridcolor\": \"white\", \"linecolor\": \"white\", \"ticks\": \"\"}}, \"scene\": {\"xaxis\": {\"backgroundcolor\": \"#E5ECF6\", \"gridcolor\": \"white\", \"gridwidth\": 2, \"linecolor\": \"white\", \"showbackground\": true, \"ticks\": \"\", \"zerolinecolor\": \"white\"}, \"yaxis\": {\"backgroundcolor\": \"#E5ECF6\", \"gridcolor\": \"white\", \"gridwidth\": 2, \"linecolor\": \"white\", \"showbackground\": true, \"ticks\": \"\", \"zerolinecolor\": \"white\"}, \"zaxis\": {\"backgroundcolor\": \"#E5ECF6\", \"gridcolor\": \"white\", \"gridwidth\": 2, \"linecolor\": \"white\", \"showbackground\": true, \"ticks\": \"\", \"zerolinecolor\": \"white\"}}, \"shapedefaults\": {\"line\": {\"color\": \"#2a3f5f\"}}, \"ternary\": {\"aaxis\": {\"gridcolor\": \"white\", \"linecolor\": \"white\", \"ticks\": \"\"}, \"baxis\": {\"gridcolor\": \"white\", \"linecolor\": \"white\", \"ticks\": \"\"}, \"bgcolor\": \"#E5ECF6\", \"caxis\": {\"gridcolor\": \"white\", \"linecolor\": \"white\", \"ticks\": \"\"}}, \"title\": {\"x\": 0.05}, \"xaxis\": {\"automargin\": true, \"gridcolor\": \"white\", \"linecolor\": \"white\", \"ticks\": \"\", \"title\": {\"standoff\": 15}, \"zerolinecolor\": \"white\", \"zerolinewidth\": 2}, \"yaxis\": {\"automargin\": true, \"gridcolor\": \"white\", \"linecolor\": \"white\", \"ticks\": \"\", \"title\": {\"standoff\": 15}, \"zerolinecolor\": \"white\", \"zerolinewidth\": 2}}}, \"title\": {\"text\": \"Count of Crime, Arrests, and 911 Calls in Baltimore from 2014-2019\"}, \"xaxis\": {\"anchor\": \"y\", \"domain\": [0.0, 1.0], \"title\": {\"text\": \"Year\"}}, \"yaxis\": {\"anchor\": \"x\", \"domain\": [0.0, 1.0], \"title\": {\"text\": \"Count\"}}},\n",
       "                        {\"responsive\": true}\n",
       "                    ).then(function(){\n",
       "                            \n",
       "var gd = document.getElementById('69a56a79-01e7-4c8a-a080-8dbecbfa40ea');\n",
       "var x = new MutationObserver(function (mutations, observer) {{\n",
       "        var display = window.getComputedStyle(gd).display;\n",
       "        if (!display || display === 'none') {{\n",
       "            console.log([gd, 'removed!']);\n",
       "            Plotly.purge(gd);\n",
       "            observer.disconnect();\n",
       "        }}\n",
       "}});\n",
       "\n",
       "// Listen for the removal of the full notebook cells\n",
       "var notebookContainer = gd.closest('#notebook-container');\n",
       "if (notebookContainer) {{\n",
       "    x.observe(notebookContainer, {childList: true});\n",
       "}}\n",
       "\n",
       "// Listen for the clearing of the current output cell\n",
       "var outputEl = gd.closest('.output');\n",
       "if (outputEl) {{\n",
       "    x.observe(outputEl, {childList: true});\n",
       "}}\n",
       "\n",
       "                        })\n",
       "                };\n",
       "                });\n",
       "            </script>\n",
       "        </div>"
      ]
     },
     "metadata": {},
     "output_type": "display_data"
    }
   ],
   "source": [
    "# view line graph\n",
    "line_bmore_safety"
   ]
  },
  {
   "cell_type": "markdown",
   "metadata": {},
   "source": [
    "## Exporting Data "
   ]
  },
  {
   "cell_type": "markdown",
   "metadata": {},
   "source": [
    "Here, we'll export our crime, 911 call, and arrest datasets since we've cleaned them a bit (to use in the future)"
   ]
  },
  {
   "cell_type": "code",
   "execution_count": 178,
   "metadata": {},
   "outputs": [],
   "source": [
    "# export crime as a csv\n",
    "df_crime_count.to_csv(\"in-class-export-crimedata.csv\")"
   ]
  },
  {
   "cell_type": "code",
   "execution_count": 118,
   "metadata": {},
   "outputs": [],
   "source": [
    "# export 911 call as a csv\n"
   ]
  },
  {
   "cell_type": "code",
   "execution_count": 119,
   "metadata": {},
   "outputs": [],
   "source": [
    "# export arrest as a csv\n"
   ]
  },
  {
   "cell_type": "code",
   "execution_count": null,
   "metadata": {},
   "outputs": [],
   "source": []
  }
 ],
 "metadata": {
  "kernelspec": {
   "display_name": "Python 3",
   "language": "python",
   "name": "python3"
  },
  "language_info": {
   "codemirror_mode": {
    "name": "ipython",
    "version": 3
   },
   "file_extension": ".py",
   "mimetype": "text/x-python",
   "name": "python",
   "nbconvert_exporter": "python",
   "pygments_lexer": "ipython3",
   "version": "3.7.6"
  }
 },
 "nbformat": 4,
 "nbformat_minor": 4
}
